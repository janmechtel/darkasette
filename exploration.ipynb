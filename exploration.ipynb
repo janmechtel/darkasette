{
 "cells": [
  {
   "cell_type": "code",
   "execution_count": 2,
   "id": "1d9360e4-03f8-4bf1-a808-159e9759411f",
   "metadata": {},
   "outputs": [],
   "source": [
    "%load_ext jupyter_ai_magics"
   ]
  },
  {
   "cell_type": "code",
   "execution_count": 4,
   "id": "c260a5df-3977-4e0e-a5c8-52923c6fda4b",
   "metadata": {},
   "outputs": [
    {
     "data": {
      "text/markdown": [
       "```python\n",
       "print(5)\n",
       "```"
      ],
      "text/plain": [
       "<IPython.core.display.Markdown object>"
      ]
     },
     "execution_count": 4,
     "metadata": {
      "text/markdown": {
       "jupyter_ai": {
        "model_id": "gpt-3.5-turbo",
        "provider_id": "openai-chat"
       }
      }
     },
     "output_type": "execute_result"
    }
   ],
   "source": [
    "%%ai chatgpt\n",
    "provide the code to print the number 5"
   ]
  },
  {
   "cell_type": "code",
   "execution_count": 6,
   "id": "ee5b83bd-1855-4db2-b5cc-2804c241b530",
   "metadata": {},
   "outputs": [
    {
     "data": {
      "text/markdown": [
       "```python\n",
       "import sqlite3\n",
       "\n",
       "connection = sqlite3.connect(\"darkasette.db\")\n",
       "```"
      ],
      "text/plain": [
       "<IPython.core.display.Markdown object>"
      ]
     },
     "execution_count": 6,
     "metadata": {
      "text/markdown": {
       "jupyter_ai": {
        "model_id": "gpt-3.5-turbo",
        "provider_id": "openai-chat"
       }
      }
     },
     "output_type": "execute_result"
    }
   ],
   "source": [
    "%%ai chatgpt\n",
    "open a connection to darkasette.db file"
   ]
  },
  {
   "cell_type": "code",
   "execution_count": 13,
   "id": "6ec32406-f2fc-4430-a633-dc4e2aa19a0b",
   "metadata": {},
   "outputs": [],
   "source": [
    "import sqlite3\n",
    "import pandas as pd\n",
    "\n",
    "connection = sqlite3.connect(\"darkasette.db\")"
   ]
  },
  {
   "cell_type": "code",
   "execution_count": 10,
   "id": "4b064bac-61b5-4e1d-95a3-69e5ee2a0da5",
   "metadata": {},
   "outputs": [
    {
     "data": {
      "text/markdown": [
       "```python\n",
       "import pandas as pd\n",
       "import sqlite3\n",
       "\n",
       "# Open a connection to the database\n",
       "connection = sqlite3.connect(\"darkasette.db\")\n",
       "\n",
       "# Query to count the number of HiddenServices\n",
       "query = \"SELECT COUNT(*) FROM pings WHERE sheetname = 'New Today'\"\n",
       "\n",
       "# Execute the query and fetch the result\n",
       "cursor = connection.execute(query)\n",
       "count = cursor.fetchone()[0]\n",
       "\n",
       "# Create a DataFrame with the count\n",
       "df = pd.DataFrame({\"HiddenServices\": [count]})\n",
       "\n",
       "# Close the connection to the database\n",
       "connection.close()\n",
       "```\n",
       "\n",
       "The variable `df` now contains a DataFrame with the count of HiddenServices from the table pings with sheetname \"New Today\"."
      ],
      "text/plain": [
       "<IPython.core.display.Markdown object>"
      ]
     },
     "execution_count": 10,
     "metadata": {
      "text/markdown": {
       "jupyter_ai": {
        "model_id": "gpt-3.5-turbo",
        "provider_id": "openai-chat"
       }
      }
     },
     "output_type": "execute_result"
    }
   ],
   "source": [
    "%%ai chatgpt\n",
    "count the number of HiddenServices from the table pings with sheetname \"New Today\" into a data frame\n"
   ]
  },
  {
   "cell_type": "code",
   "execution_count": 16,
   "id": "8d36ddf7-d728-41a4-ba80-50318e2c2c0a",
   "metadata": {},
   "outputs": [],
   "source": [
    "# Query to count the number of HiddenServices\n",
    "query = \"SELECT * FROM pings WHERE sheetname = 'New Today'\""
   ]
  },
  {
   "cell_type": "code",
   "execution_count": 19,
   "id": "f136869f-e5be-44e8-9ffc-42d97de55a16",
   "metadata": {},
   "outputs": [
    {
     "data": {
      "text/markdown": [
       "Sure! To load the result of a query into a Pandas DataFrame, you can use the `pd.read_sql_query()` function. Here's an example:\n",
       "\n",
       "```python\n",
       "import pandas as pd\n",
       "import sqlite3\n",
       "\n",
       "# Open a connection to the database\n",
       "connection = sqlite3.connect(\"darkasette.db\")\n",
       "\n",
       "# Query to retrieve data from the database\n",
       "query = \"SELECT * FROM table_name\"\n",
       "\n",
       "# Load the query result into a DataFrame\n",
       "df = pd.read_sql_query(query, connection)\n",
       "\n",
       "# Close the connection to the database\n",
       "connection.close()\n",
       "```\n",
       "\n",
       "This code snippet will execute the SQL query specified in the `query` variable and store the result in the `df` DataFrame. Remember to replace `table_name` with the name of your table in the database."
      ],
      "text/plain": [
       "<IPython.core.display.Markdown object>"
      ]
     },
     "execution_count": 19,
     "metadata": {
      "text/markdown": {
       "jupyter_ai": {
        "model_id": "gpt-3.5-turbo",
        "provider_id": "openai-chat"
       }
      }
     },
     "output_type": "execute_result"
    }
   ],
   "source": [
    "%%ai chatgpt \n",
    "load the result of a query into a pandas df"
   ]
  },
  {
   "cell_type": "code",
   "execution_count": 20,
   "id": "50892a6e-df2e-4a83-97d4-1c6b0efae514",
   "metadata": {},
   "outputs": [],
   "source": [
    "# Execute the query and fetch the result\n",
    "df = pd.read_sql_query(query, connection)"
   ]
  },
  {
   "cell_type": "code",
   "execution_count": 21,
   "id": "68240111-bfb8-444e-82c8-ca26d0f0ddae",
   "metadata": {},
   "outputs": [
    {
     "data": {
      "text/html": [
       "<div>\n",
       "<style scoped>\n",
       "    .dataframe tbody tr th:only-of-type {\n",
       "        vertical-align: middle;\n",
       "    }\n",
       "\n",
       "    .dataframe tbody tr th {\n",
       "        vertical-align: top;\n",
       "    }\n",
       "\n",
       "    .dataframe thead th {\n",
       "        text-align: right;\n",
       "    }\n",
       "</style>\n",
       "<table border=\"1\" class=\"dataframe\">\n",
       "  <thead>\n",
       "    <tr style=\"text-align: right;\">\n",
       "      <th></th>\n",
       "      <th>HiddenService</th>\n",
       "      <th>Language</th>\n",
       "      <th>HTTPStatus</th>\n",
       "      <th>LastContactedDate</th>\n",
       "      <th>LastContactedTime</th>\n",
       "      <th>LastUpDate</th>\n",
       "      <th>Title</th>\n",
       "      <th>Sheetname</th>\n",
       "    </tr>\n",
       "  </thead>\n",
       "  <tbody>\n",
       "    <tr>\n",
       "      <th>0</th>\n",
       "      <td>484de3c52dfbd2e81744a9037ac3a9554fc443d9eec1a9...</td>\n",
       "      <td>da</td>\n",
       "      <td>403</td>\n",
       "      <td>2018-02-15</td>\n",
       "      <td>17:39:29</td>\n",
       "      <td>None</td>\n",
       "      <td>403 Forbidden</td>\n",
       "      <td>New Today</td>\n",
       "    </tr>\n",
       "    <tr>\n",
       "      <th>1</th>\n",
       "      <td>84eed506a2344a62f791d9e80380a8ac309f9586954edb...</td>\n",
       "      <td>en</td>\n",
       "      <td>200</td>\n",
       "      <td>2018-02-15</td>\n",
       "      <td>12:59:45</td>\n",
       "      <td>None</td>\n",
       "      <td>OnionDrop</td>\n",
       "      <td>New Today</td>\n",
       "    </tr>\n",
       "    <tr>\n",
       "      <th>2</th>\n",
       "      <td>f3e537fb895fb820d5c8862ce40146a5b3f1d25ea743c6...</td>\n",
       "      <td>en</td>\n",
       "      <td>200</td>\n",
       "      <td>2018-02-15</td>\n",
       "      <td>13:07:37</td>\n",
       "      <td>None</td>\n",
       "      <td>Sign In - Hidden Clubs</td>\n",
       "      <td>New Today</td>\n",
       "    </tr>\n",
       "    <tr>\n",
       "      <th>3</th>\n",
       "      <td>a92219cf3881702b31e4205c12aa3480ccd4adb62cd981...</td>\n",
       "      <td>en</td>\n",
       "      <td>200</td>\n",
       "      <td>2019-11-04</td>\n",
       "      <td>12:03:44</td>\n",
       "      <td>None</td>\n",
       "      <td>BreachDB</td>\n",
       "      <td>New Today</td>\n",
       "    </tr>\n",
       "    <tr>\n",
       "      <th>4</th>\n",
       "      <td>6482735e52c7ec7a46d5f31747b3e6dfdd5b8ad01237b1...</td>\n",
       "      <td>en</td>\n",
       "      <td>200</td>\n",
       "      <td>2019-03-15</td>\n",
       "      <td>16:45:53</td>\n",
       "      <td>None</td>\n",
       "      <td>Nu wiki 2019 links</td>\n",
       "      <td>New Today</td>\n",
       "    </tr>\n",
       "    <tr>\n",
       "      <th>...</th>\n",
       "      <td>...</td>\n",
       "      <td>...</td>\n",
       "      <td>...</td>\n",
       "      <td>...</td>\n",
       "      <td>...</td>\n",
       "      <td>...</td>\n",
       "      <td>...</td>\n",
       "      <td>...</td>\n",
       "    </tr>\n",
       "    <tr>\n",
       "      <th>21465</th>\n",
       "      <td>8c20b23121d338f339ea6bb4f73b89115174a2afc1ed1b...</td>\n",
       "      <td>en</td>\n",
       "      <td>200</td>\n",
       "      <td>2017-11-05</td>\n",
       "      <td>18:59:42</td>\n",
       "      <td>None</td>\n",
       "      <td>CGMC</td>\n",
       "      <td>New Today</td>\n",
       "    </tr>\n",
       "    <tr>\n",
       "      <th>21466</th>\n",
       "      <td>6865d2615757b834cb6b3c23fcd6235df74edc05866524...</td>\n",
       "      <td>en</td>\n",
       "      <td>200</td>\n",
       "      <td>2017-11-05</td>\n",
       "      <td>21:13:51</td>\n",
       "      <td>None</td>\n",
       "      <td>Site hosted by Daniel's hosting service</td>\n",
       "      <td>New Today</td>\n",
       "    </tr>\n",
       "    <tr>\n",
       "      <th>21467</th>\n",
       "      <td>06bb95ba4dd585b39dd7057f18f82621ce4d1fabb7aa17...</td>\n",
       "      <td>en</td>\n",
       "      <td>200</td>\n",
       "      <td>2017-11-05</td>\n",
       "      <td>09:01:21</td>\n",
       "      <td>None</td>\n",
       "      <td>Site hosted by Daniel's hosting service</td>\n",
       "      <td>New Today</td>\n",
       "    </tr>\n",
       "    <tr>\n",
       "      <th>21468</th>\n",
       "      <td>cd11885a66eef7540bbb638108b02488bd7bddf51917ca...</td>\n",
       "      <td>th</td>\n",
       "      <td>200</td>\n",
       "      <td>2017-11-05</td>\n",
       "      <td>19:13:40</td>\n",
       "      <td>None</td>\n",
       "      <td>Site hosted by Daniel's hosting service</td>\n",
       "      <td>New Today</td>\n",
       "    </tr>\n",
       "    <tr>\n",
       "      <th>21469</th>\n",
       "      <td>03d1e064bc7bd4f5ff08975316a75e4027c3b41d0e101d...</td>\n",
       "      <td>en</td>\n",
       "      <td>200</td>\n",
       "      <td>2022-10-03</td>\n",
       "      <td>15:01:02</td>\n",
       "      <td>None</td>\n",
       "      <td>Apache2 Ubuntu Default Page: It works</td>\n",
       "      <td>New Today</td>\n",
       "    </tr>\n",
       "  </tbody>\n",
       "</table>\n",
       "<p>21470 rows × 8 columns</p>\n",
       "</div>"
      ],
      "text/plain": [
       "                                           HiddenService Language  HTTPStatus  \\\n",
       "0      484de3c52dfbd2e81744a9037ac3a9554fc443d9eec1a9...       da         403   \n",
       "1      84eed506a2344a62f791d9e80380a8ac309f9586954edb...       en         200   \n",
       "2      f3e537fb895fb820d5c8862ce40146a5b3f1d25ea743c6...       en         200   \n",
       "3      a92219cf3881702b31e4205c12aa3480ccd4adb62cd981...       en         200   \n",
       "4      6482735e52c7ec7a46d5f31747b3e6dfdd5b8ad01237b1...       en         200   \n",
       "...                                                  ...      ...         ...   \n",
       "21465  8c20b23121d338f339ea6bb4f73b89115174a2afc1ed1b...       en         200   \n",
       "21466  6865d2615757b834cb6b3c23fcd6235df74edc05866524...       en         200   \n",
       "21467  06bb95ba4dd585b39dd7057f18f82621ce4d1fabb7aa17...       en         200   \n",
       "21468  cd11885a66eef7540bbb638108b02488bd7bddf51917ca...       th         200   \n",
       "21469  03d1e064bc7bd4f5ff08975316a75e4027c3b41d0e101d...       en         200   \n",
       "\n",
       "      LastContactedDate LastContactedTime LastUpDate  \\\n",
       "0            2018-02-15          17:39:29       None   \n",
       "1            2018-02-15          12:59:45       None   \n",
       "2            2018-02-15          13:07:37       None   \n",
       "3            2019-11-04          12:03:44       None   \n",
       "4            2019-03-15          16:45:53       None   \n",
       "...                 ...               ...        ...   \n",
       "21465        2017-11-05          18:59:42       None   \n",
       "21466        2017-11-05          21:13:51       None   \n",
       "21467        2017-11-05          09:01:21       None   \n",
       "21468        2017-11-05          19:13:40       None   \n",
       "21469        2022-10-03          15:01:02       None   \n",
       "\n",
       "                                         Title  Sheetname  \n",
       "0                                403 Forbidden  New Today  \n",
       "1                                    OnionDrop  New Today  \n",
       "2                       Sign In - Hidden Clubs  New Today  \n",
       "3                                     BreachDB  New Today  \n",
       "4                           Nu wiki 2019 links  New Today  \n",
       "...                                        ...        ...  \n",
       "21465                                     CGMC  New Today  \n",
       "21466  Site hosted by Daniel's hosting service  New Today  \n",
       "21467  Site hosted by Daniel's hosting service  New Today  \n",
       "21468  Site hosted by Daniel's hosting service  New Today  \n",
       "21469    Apache2 Ubuntu Default Page: It works  New Today  \n",
       "\n",
       "[21470 rows x 8 columns]"
      ]
     },
     "execution_count": 21,
     "metadata": {},
     "output_type": "execute_result"
    }
   ],
   "source": [
    "df"
   ]
  },
  {
   "cell_type": "code",
   "execution_count": 22,
   "id": "0f44e583-ace3-4cd8-addd-1af5aeba7ef4",
   "metadata": {},
   "outputs": [
    {
     "data": {
      "text/markdown": [
       "Sure! To plot the DataFrame showing the number of services seen on each lastContactedate, you can use the `plot` function from Pandas.\n",
       "\n",
       "Here's an example of how you can do it:\n",
       "\n",
       "```python\n",
       "import pandas as pd\n",
       "import matplotlib.pyplot as plt\n",
       "\n",
       "# Assuming you have a DataFrame named `df` with columns `lastContactedate` and `services`\n",
       "# You can replace these names with your actual column names\n",
       "\n",
       "# Group the DataFrame by lastContactedate and count the number of services for each date\n",
       "df_grouped = df.groupby('lastContactedate').size().reset_index(name='Number of Services')\n",
       "\n",
       "# Plot the data\n",
       "df_grouped.plot(x='lastContactedate', y='Number of Services', kind='bar', figsize=(10,6))\n",
       "plt.xlabel('Last Contacted Date')\n",
       "plt.ylabel('Number of Services')\n",
       "plt.title('Number of Services on each Last Contacted Date')\n",
       "\n",
       "# Display the plot\n",
       "plt.show()\n",
       "```\n",
       "\n",
       "This code will group your DataFrame by `lastContactedate`, count the number of services for each date, and then plot a bar graph showing the number of services on each lastContactedate.\n",
       "\n",
       "Please note that you need to have the necessary libraries (`pandas` and `matplotlib`) installed in your environment to run this code successfully."
      ],
      "text/plain": [
       "<IPython.core.display.Markdown object>"
      ]
     },
     "execution_count": 22,
     "metadata": {
      "text/markdown": {
       "jupyter_ai": {
        "model_id": "gpt-3.5-turbo",
        "provider_id": "openai-chat"
       }
      }
     },
     "output_type": "execute_result"
    }
   ],
   "source": [
    "%%ai chatgpt\n",
    "plot the df showing how many services where seen on each lastcontactedate"
   ]
  },
  {
   "cell_type": "code",
   "execution_count": 26,
   "id": "f80bc1fd-da80-4698-995b-2b527dea37b7",
   "metadata": {},
   "outputs": [
    {
     "data": {
      "text/html": [
       "<div>\n",
       "<style scoped>\n",
       "    .dataframe tbody tr th:only-of-type {\n",
       "        vertical-align: middle;\n",
       "    }\n",
       "\n",
       "    .dataframe tbody tr th {\n",
       "        vertical-align: top;\n",
       "    }\n",
       "\n",
       "    .dataframe thead th {\n",
       "        text-align: right;\n",
       "    }\n",
       "</style>\n",
       "<table border=\"1\" class=\"dataframe\">\n",
       "  <thead>\n",
       "    <tr style=\"text-align: right;\">\n",
       "      <th></th>\n",
       "      <th>HiddenService</th>\n",
       "      <th>Language</th>\n",
       "      <th>HTTPStatus</th>\n",
       "      <th>LastContactedDate</th>\n",
       "      <th>LastContactedTime</th>\n",
       "      <th>LastUpDate</th>\n",
       "      <th>Title</th>\n",
       "      <th>Sheetname</th>\n",
       "    </tr>\n",
       "  </thead>\n",
       "  <tbody>\n",
       "    <tr>\n",
       "      <th>0</th>\n",
       "      <td>484de3c52dfbd2e81744a9037ac3a9554fc443d9eec1a9...</td>\n",
       "      <td>da</td>\n",
       "      <td>403</td>\n",
       "      <td>2018-02-15</td>\n",
       "      <td>17:39:29</td>\n",
       "      <td>None</td>\n",
       "      <td>403 Forbidden</td>\n",
       "      <td>New Today</td>\n",
       "    </tr>\n",
       "    <tr>\n",
       "      <th>1</th>\n",
       "      <td>84eed506a2344a62f791d9e80380a8ac309f9586954edb...</td>\n",
       "      <td>en</td>\n",
       "      <td>200</td>\n",
       "      <td>2018-02-15</td>\n",
       "      <td>12:59:45</td>\n",
       "      <td>None</td>\n",
       "      <td>OnionDrop</td>\n",
       "      <td>New Today</td>\n",
       "    </tr>\n",
       "    <tr>\n",
       "      <th>2</th>\n",
       "      <td>f3e537fb895fb820d5c8862ce40146a5b3f1d25ea743c6...</td>\n",
       "      <td>en</td>\n",
       "      <td>200</td>\n",
       "      <td>2018-02-15</td>\n",
       "      <td>13:07:37</td>\n",
       "      <td>None</td>\n",
       "      <td>Sign In - Hidden Clubs</td>\n",
       "      <td>New Today</td>\n",
       "    </tr>\n",
       "    <tr>\n",
       "      <th>3</th>\n",
       "      <td>a92219cf3881702b31e4205c12aa3480ccd4adb62cd981...</td>\n",
       "      <td>en</td>\n",
       "      <td>200</td>\n",
       "      <td>2019-11-04</td>\n",
       "      <td>12:03:44</td>\n",
       "      <td>None</td>\n",
       "      <td>BreachDB</td>\n",
       "      <td>New Today</td>\n",
       "    </tr>\n",
       "    <tr>\n",
       "      <th>4</th>\n",
       "      <td>6482735e52c7ec7a46d5f31747b3e6dfdd5b8ad01237b1...</td>\n",
       "      <td>en</td>\n",
       "      <td>200</td>\n",
       "      <td>2019-03-15</td>\n",
       "      <td>16:45:53</td>\n",
       "      <td>None</td>\n",
       "      <td>Nu wiki 2019 links</td>\n",
       "      <td>New Today</td>\n",
       "    </tr>\n",
       "    <tr>\n",
       "      <th>...</th>\n",
       "      <td>...</td>\n",
       "      <td>...</td>\n",
       "      <td>...</td>\n",
       "      <td>...</td>\n",
       "      <td>...</td>\n",
       "      <td>...</td>\n",
       "      <td>...</td>\n",
       "      <td>...</td>\n",
       "    </tr>\n",
       "    <tr>\n",
       "      <th>21465</th>\n",
       "      <td>8c20b23121d338f339ea6bb4f73b89115174a2afc1ed1b...</td>\n",
       "      <td>en</td>\n",
       "      <td>200</td>\n",
       "      <td>2017-11-05</td>\n",
       "      <td>18:59:42</td>\n",
       "      <td>None</td>\n",
       "      <td>CGMC</td>\n",
       "      <td>New Today</td>\n",
       "    </tr>\n",
       "    <tr>\n",
       "      <th>21466</th>\n",
       "      <td>6865d2615757b834cb6b3c23fcd6235df74edc05866524...</td>\n",
       "      <td>en</td>\n",
       "      <td>200</td>\n",
       "      <td>2017-11-05</td>\n",
       "      <td>21:13:51</td>\n",
       "      <td>None</td>\n",
       "      <td>Site hosted by Daniel's hosting service</td>\n",
       "      <td>New Today</td>\n",
       "    </tr>\n",
       "    <tr>\n",
       "      <th>21467</th>\n",
       "      <td>06bb95ba4dd585b39dd7057f18f82621ce4d1fabb7aa17...</td>\n",
       "      <td>en</td>\n",
       "      <td>200</td>\n",
       "      <td>2017-11-05</td>\n",
       "      <td>09:01:21</td>\n",
       "      <td>None</td>\n",
       "      <td>Site hosted by Daniel's hosting service</td>\n",
       "      <td>New Today</td>\n",
       "    </tr>\n",
       "    <tr>\n",
       "      <th>21468</th>\n",
       "      <td>cd11885a66eef7540bbb638108b02488bd7bddf51917ca...</td>\n",
       "      <td>th</td>\n",
       "      <td>200</td>\n",
       "      <td>2017-11-05</td>\n",
       "      <td>19:13:40</td>\n",
       "      <td>None</td>\n",
       "      <td>Site hosted by Daniel's hosting service</td>\n",
       "      <td>New Today</td>\n",
       "    </tr>\n",
       "    <tr>\n",
       "      <th>21469</th>\n",
       "      <td>03d1e064bc7bd4f5ff08975316a75e4027c3b41d0e101d...</td>\n",
       "      <td>en</td>\n",
       "      <td>200</td>\n",
       "      <td>2022-10-03</td>\n",
       "      <td>15:01:02</td>\n",
       "      <td>None</td>\n",
       "      <td>Apache2 Ubuntu Default Page: It works</td>\n",
       "      <td>New Today</td>\n",
       "    </tr>\n",
       "  </tbody>\n",
       "</table>\n",
       "<p>21470 rows × 8 columns</p>\n",
       "</div>"
      ],
      "text/plain": [
       "                                           HiddenService Language  HTTPStatus  \\\n",
       "0      484de3c52dfbd2e81744a9037ac3a9554fc443d9eec1a9...       da         403   \n",
       "1      84eed506a2344a62f791d9e80380a8ac309f9586954edb...       en         200   \n",
       "2      f3e537fb895fb820d5c8862ce40146a5b3f1d25ea743c6...       en         200   \n",
       "3      a92219cf3881702b31e4205c12aa3480ccd4adb62cd981...       en         200   \n",
       "4      6482735e52c7ec7a46d5f31747b3e6dfdd5b8ad01237b1...       en         200   \n",
       "...                                                  ...      ...         ...   \n",
       "21465  8c20b23121d338f339ea6bb4f73b89115174a2afc1ed1b...       en         200   \n",
       "21466  6865d2615757b834cb6b3c23fcd6235df74edc05866524...       en         200   \n",
       "21467  06bb95ba4dd585b39dd7057f18f82621ce4d1fabb7aa17...       en         200   \n",
       "21468  cd11885a66eef7540bbb638108b02488bd7bddf51917ca...       th         200   \n",
       "21469  03d1e064bc7bd4f5ff08975316a75e4027c3b41d0e101d...       en         200   \n",
       "\n",
       "      LastContactedDate LastContactedTime LastUpDate  \\\n",
       "0            2018-02-15          17:39:29       None   \n",
       "1            2018-02-15          12:59:45       None   \n",
       "2            2018-02-15          13:07:37       None   \n",
       "3            2019-11-04          12:03:44       None   \n",
       "4            2019-03-15          16:45:53       None   \n",
       "...                 ...               ...        ...   \n",
       "21465        2017-11-05          18:59:42       None   \n",
       "21466        2017-11-05          21:13:51       None   \n",
       "21467        2017-11-05          09:01:21       None   \n",
       "21468        2017-11-05          19:13:40       None   \n",
       "21469        2022-10-03          15:01:02       None   \n",
       "\n",
       "                                         Title  Sheetname  \n",
       "0                                403 Forbidden  New Today  \n",
       "1                                    OnionDrop  New Today  \n",
       "2                       Sign In - Hidden Clubs  New Today  \n",
       "3                                     BreachDB  New Today  \n",
       "4                           Nu wiki 2019 links  New Today  \n",
       "...                                        ...        ...  \n",
       "21465                                     CGMC  New Today  \n",
       "21466  Site hosted by Daniel's hosting service  New Today  \n",
       "21467  Site hosted by Daniel's hosting service  New Today  \n",
       "21468  Site hosted by Daniel's hosting service  New Today  \n",
       "21469    Apache2 Ubuntu Default Page: It works  New Today  \n",
       "\n",
       "[21470 rows x 8 columns]"
      ]
     },
     "execution_count": 26,
     "metadata": {},
     "output_type": "execute_result"
    }
   ],
   "source": [
    "df"
   ]
  },
  {
   "cell_type": "code",
   "execution_count": 27,
   "id": "1a1f5370-17f8-4441-985b-bbb6809b2222",
   "metadata": {},
   "outputs": [
    {
     "data": {
      "image/png": "[encoded data removed]",
      "text/plain": [
       "<Figure size 1000x600 with 1 Axes>"
      ]
     },
     "metadata": {},
     "output_type": "display_data"
    }
   ],
   "source": [
    "import matplotlib.pyplot as plt\n",
    "\n",
    "# Assuming you have a DataFrame named `df` with columns `lastContactedate` and `services`\n",
    "# You can replace these names with your actual column names\n",
    "\n",
    "# Group the DataFrame by lastContactedate and count the number of services for each date\n",
    "df_grouped = df.groupby('LastContactedDate').size().reset_index(name='Number of Services')\n",
    "\n",
    "# Plot the data\n",
    "df_grouped.plot(x='LastContactedDate', y='Number of Services', kind='bar', figsize=(10,6))\n",
    "plt.xlabel('Last Contacted Date')\n",
    "plt.ylabel('Number of Services')\n",
    "plt.title('Number of Services on each Last Contacted Date')\n",
    "\n",
    "# Display the plot\n",
    "plt.show()"
   ]
  },
  {
   "cell_type": "code",
   "execution_count": null,
   "id": "6540e97a-0e85-4d6f-9d48-92bb3af7b368",
   "metadata": {},
   "outputs": [],
   "source": []
  }
 ],
 "metadata": {
  "kernelspec": {
   "display_name": "Python 3 (ipykernel)",
   "language": "python",
   "name": "python3"
  },
  "language_info": {
   "codemirror_mode": {
    "name": "ipython",
    "version": 3
   },
   "file_extension": ".py",
   "mimetype": "text/x-python",
   "name": "python",
   "nbconvert_exporter": "python",
   "pygments_lexer": "ipython3",
   "version": "3.9.10"
  }
 },
 "nbformat": 4,
 "nbformat_minor": 5
}
