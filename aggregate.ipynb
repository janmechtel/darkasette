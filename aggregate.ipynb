{
 "cells": [
  {
   "cell_type": "code",
   "execution_count": 64,
   "metadata": {},
   "outputs": [],
   "source": [
    "%run database.py\n",
    "import pandas as pd"
   ]
  },
  {
   "cell_type": "code",
   "execution_count": 56,
   "metadata": {},
   "outputs": [
    {
     "name": "stdout",
     "output_type": "stream",
     "text": [
      "Connection to SQLite DB successful\n"
     ]
    }
   ],
   "source": [
    "conn = create_connection()"
   ]
  },
  {
   "cell_type": "code",
   "execution_count": 57,
   "metadata": {},
   "outputs": [],
   "source": [
    "# define columns as a list of pairs with title and type\n",
    "columns = [\n",
    "    ('HiddenService', 'TEXT PRIMARY KEY'), # TODO: Make FK in other tables?\n",
    "]"
   ]
  },
  {
   "cell_type": "code",
   "execution_count": 58,
   "metadata": {},
   "outputs": [],
   "source": [
    "tablename = 'services'"
   ]
  },
  {
   "cell_type": "code",
   "execution_count": 66,
   "metadata": {},
   "outputs": [
    {
     "name": "stdout",
     "output_type": "stream",
     "text": [
      "Table services dropped\n"
     ]
    }
   ],
   "source": [
    "#drop the table from the connection\n",
    "drop_table(tablename, conn)"
   ]
  },
  {
   "cell_type": "code",
   "execution_count": 67,
   "metadata": {},
   "outputs": [
    {
     "name": "stdout",
     "output_type": "stream",
     "text": [
      "CREATE TABLE IF NOT EXISTS \"services\" (\n",
      "\"HiddenService\" TEXT PRIMARY KEY);\n"
     ]
    },
    {
     "data": {
      "text/plain": [
       "<sqlite3.Cursor at 0x7f4535c0f5e0>"
      ]
     },
     "execution_count": 67,
     "metadata": {},
     "output_type": "execute_result"
    }
   ],
   "source": [
    "conn.execute(\n",
    "    generateCreateTableQuery(tablename, columns)\n",
    ")"
   ]
  },
  {
   "cell_type": "code",
   "execution_count": 68,
   "metadata": {},
   "outputs": [],
   "source": [
    "# get all the hidden services from the table pings and store them into a dataframe\n",
    "df = pd.read_sql_query(\"SELECT DISTINCT HiddenService FROM pings\", conn)\n",
    "# make HiddenService the index\n",
    "df.set_index('HiddenService', inplace=True)"
   ]
  },
  {
   "cell_type": "code",
   "execution_count": 69,
   "metadata": {},
   "outputs": [
    {
     "data": {
      "text/html": [
       "<div>\n",
       "<style scoped>\n",
       "    .dataframe tbody tr th:only-of-type {\n",
       "        vertical-align: middle;\n",
       "    }\n",
       "\n",
       "    .dataframe tbody tr th {\n",
       "        vertical-align: top;\n",
       "    }\n",
       "\n",
       "    .dataframe thead th {\n",
       "        text-align: right;\n",
       "    }\n",
       "</style>\n",
       "<table border=\"1\" class=\"dataframe\">\n",
       "  <thead>\n",
       "    <tr style=\"text-align: right;\">\n",
       "      <th></th>\n",
       "    </tr>\n",
       "    <tr>\n",
       "      <th>HiddenService</th>\n",
       "    </tr>\n",
       "  </thead>\n",
       "  <tbody>\n",
       "    <tr>\n",
       "      <th>*youbroketheinternet@loupsycedyglgamf.onion</th>\n",
       "    </tr>\n",
       "    <tr>\n",
       "      <th>1111111111111111.111111111111111111111111111.1w2e3r456y7u1q.onion</th>\n",
       "    </tr>\n",
       "    <tr>\n",
       "      <th>12345denis.3voaeq7o2obsrocx.onion</th>\n",
       "    </tr>\n",
       "    <tr>\n",
       "      <th>12345denis.sholq4kbukl5mitc.onion</th>\n",
       "    </tr>\n",
       "    <tr>\n",
       "      <th>12345denis.shops3jqx4hojok2.onion</th>\n",
       "    </tr>\n",
       "    <tr>\n",
       "      <th>...</th>\n",
       "    </tr>\n",
       "    <tr>\n",
       "      <th>zzz7hcycjoj7mqc6.onion</th>\n",
       "    </tr>\n",
       "    <tr>\n",
       "      <th>zzzatqyocf7kt7y6.onion</th>\n",
       "    </tr>\n",
       "    <tr>\n",
       "      <th>zzzcgjit65yyn4ji.onion</th>\n",
       "    </tr>\n",
       "    <tr>\n",
       "      <th>zzzzzzo2h3fyvq24.onion</th>\n",
       "    </tr>\n",
       "    <tr>\n",
       "      <th>zzzzzzzzzzaghsao.onion</th>\n",
       "    </tr>\n",
       "  </tbody>\n",
       "</table>\n",
       "<p>20487 rows × 0 columns</p>\n",
       "</div>"
      ],
      "text/plain": [
       "Empty DataFrame\n",
       "Columns: []\n",
       "Index: [*youbroketheinternet@loupsycedyglgamf.onion, 1111111111111111.111111111111111111111111111.1w2e3r456y7u1q.onion, 12345denis.3voaeq7o2obsrocx.onion, 12345denis.sholq4kbukl5mitc.onion, 12345denis.shops3jqx4hojok2.onion, 133786jrgaaj513wjaha.onion, 1703.rampshop72lq6kp6.onion, 1703.sholq4kbukl5mitc.onion, 1703.vfvfq64rtrefmdtd.onion, 173728299bsuajw68190nz.onion, 1skazka1.3voaeq7o2obsrocx.onion, 1skazka1.rampshop72lq6kp6.onion, 1skazka1.shops3jqx4hojok2.onion, 1skazka1.vfvfq64a2bbfaeya.onion, 1skazka1.vfvfq64rtrefmdtd.onion, 1tbp.oregano.Remove.onion, 21uzdf3uhrsp12sb.onion, 2222222222hofxwd.onion, 22222222235tlt3z.onion, 2222222223hj36o5.onion, 2222222223myexge.onion, 2222222223za3joq.onion, 22222222266i2kbs.onion, 222222222c7r2gdj.onion, 222222222g4bgdec.onion, 222222222m323qr3.onion, 222222222reyrgge.onion, 222222222rrm7tey.onion, 2222222234uysu6r.onion, 2222222237z3q52l.onion, 222222223l4p3p3k.onion, 222222224gidecov.onion, 22222222663t663g.onion, 22222222aziwzse2.onion, 22222222b5jjiakx.onion, 22222222bxxurr35.onion, 22222222cjqiit46.onion, 22222222clisfy23.onion, 22222222fhmxvuyy.onion, 22222222gib3ywf6.onion, 22222222gudgigfi.onion, 22222222haocmxli.onion, 22222222hkqnx4ec.onion, 22222222jpg4oobq.onion, 22222222juzrxryi.onion, 22222222kg675r2p.onion, 22222222ljicioww.onion, 22222222m4cetz5t.onion, 22222222mkwps52d.onion, 22222222mmqrbyaf.onion, 22222222n77jskuw.onion, 22222222nh2uah4n.onion, 22222222oss4d6al.onion, 22222222qca6aead.onion, 22222222ufyvzw7j.onion, 22222222up27ghl7.onion, 22222222xsj7g55v.onion, 22222223nm4siaje.onion, 22222223ttcgcmv7.onion, 22222223xwyrjbq5.onion, 22222223zmnmw45c.onion, 222222244trjylim.onion, 2222222526cmthv4.onion, 22222225ovm6nlj4.onion, 222222265oewkjsa.onion, 22222226uuwmq4hi.onion, 22222227giq565lq.onion, 22222227jens3hut.onion, 22222227qp2e2l7j.onion, 2222222afubjlbhm.onion, 2222222ajms76gk4.onion, 2222222amsdgizj6.onion, 2222222ckiquhc7h.onion, 2222222dmc2tq7ug.onion, 2222222dpg65ioqu.onion, 2222222e5ikol2kz.onion, 2222222ep67fw3hd.onion, 2222222faw2zy5t7.onion, 2222222ffaklzb6g.onion, 2222222fjgch7zpy.onion, 2222222fztl6a5jc.onion, 2222222ghgfvghfj.onion, 2222222gln6axpfp.onion, 2222222gpfgju7tc.onion, 2222222hrotrzilu.onion, 2222222iwzil7uft.onion, 2222222jrry67pfv.onion, 2222222jukyyqtf6.onion, 2222222kms362v7a.onion, 2222222krdmx5dlv.onion, 2222222kt6vihsl6.onion, 2222222ktcrdy7aq.onion, 2222222lat6wolrn.onion, 2222222ljlarzjlz.onion, 2222222mbobnfb3a.onion, 2222222mm67h6ypm.onion, 2222222mn5oniplk.onion, 2222222my67lpvpd.onion, 2222222nbujxjtpo.onion, 2222222nfgkpxze4.onion, ...]\n",
       "\n",
       "[20487 rows x 0 columns]"
      ]
     },
     "execution_count": 69,
     "metadata": {},
     "output_type": "execute_result"
    }
   ],
   "source": [
    "df"
   ]
  },
  {
   "cell_type": "code",
   "execution_count": 70,
   "metadata": {},
   "outputs": [
    {
     "data": {
      "text/plain": [
       "20487"
      ]
     },
     "execution_count": 70,
     "metadata": {},
     "output_type": "execute_result"
    }
   ],
   "source": [
    "# insert the hidden services into the table services\n",
    "# don't insert the rowid\n",
    "df.to_sql(tablename, conn, if_exists='append', index=True, index_label='HiddenService')"
   ]
  },
  {
   "cell_type": "code",
   "execution_count": 31,
   "metadata": {},
   "outputs": [
    {
     "name": "stdout",
     "output_type": "stream",
     "text": [
      "The SQLite connection is closed\n"
     ]
    }
   ],
   "source": [
    "close_connection(conn)"
   ]
  },
  {
   "cell_type": "code",
   "execution_count": null,
   "metadata": {},
   "outputs": [],
   "source": []
  }
 ],
 "metadata": {
  "kernelspec": {
   "display_name": "Python 3",
   "language": "python",
   "name": "python3"
  },
  "language_info": {
   "codemirror_mode": {
    "name": "ipython",
    "version": 3
   },
   "file_extension": ".py",
   "mimetype": "text/x-python",
   "name": "python",
   "nbconvert_exporter": "python",
   "pygments_lexer": "ipython3",
   "version": "3.9.10"
  },
  "orig_nbformat": 4
 },
 "nbformat": 4,
 "nbformat_minor": 2
}
