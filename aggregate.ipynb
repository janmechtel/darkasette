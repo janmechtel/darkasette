{
 "cells": [
  {
   "cell_type": "code",
   "execution_count": 1,
   "metadata": {},
   "outputs": [],
   "source": [
    "%run database.py\n",
    "import pandas as pd"
   ]
  },
  {
   "cell_type": "code",
   "execution_count": 2,
   "metadata": {},
   "outputs": [
    {
     "name": "stdout",
     "output_type": "stream",
     "text": [
      "Connection to SQLite DB successful\n"
     ]
    }
   ],
   "source": [
    "conn = create_connection()"
   ]
  },
  {
   "cell_type": "code",
   "execution_count": 3,
   "metadata": {},
   "outputs": [],
   "source": [
    "# define columns as a list of pairs with title and type\n",
    "columns = [\n",
    "    ('HiddenService', 'TEXT PRIMARY KEY'), # TODO: Make FK in other tables?\n",
    "]"
   ]
  },
  {
   "cell_type": "code",
   "execution_count": 8,
   "metadata": {},
   "outputs": [],
   "source": [
    "tablename = 'services'"
   ]
  },
  {
   "cell_type": "code",
   "execution_count": 9,
   "metadata": {},
   "outputs": [
    {
     "name": "stdout",
     "output_type": "stream",
     "text": [
      "Table services dropped\n"
     ]
    }
   ],
   "source": [
    "#drop the table from the connection\n",
    "drop_table(tablename, conn)"
   ]
  },
  {
   "cell_type": "code",
   "execution_count": 10,
   "metadata": {},
   "outputs": [
    {
     "name": "stdout",
     "output_type": "stream",
     "text": [
      "CREATE TABLE IF NOT EXISTS \"services\" (\n",
      "\"HiddenService\" TEXT PRIMARY KEY);\n"
     ]
    },
    {
     "data": {
      "text/plain": [
       "<sqlite3.Cursor at 0x7fc704733260>"
      ]
     },
     "execution_count": 10,
     "metadata": {},
     "output_type": "execute_result"
    }
   ],
   "source": [
    "conn.execute(\n",
    "    generateCreateTableQuery(tablename, columns)\n",
    ")"
   ]
  },
  {
   "cell_type": "code",
   "execution_count": 11,
   "metadata": {},
   "outputs": [],
   "source": [
    "# get all the hidden services from the table pings and store them into a dataframe\n",
    "df = pd.read_sql_query(\"SELECT DISTINCT HiddenService FROM pings\", conn)\n",
    "# make HiddenService the index\n",
    "df.set_index('HiddenService', inplace=True)"
   ]
  },
  {
   "cell_type": "code",
   "execution_count": 12,
   "metadata": {},
   "outputs": [
    {
     "data": {
      "text/html": [
       "<div>\n",
       "<style scoped>\n",
       "    .dataframe tbody tr th:only-of-type {\n",
       "        vertical-align: middle;\n",
       "    }\n",
       "\n",
       "    .dataframe tbody tr th {\n",
       "        vertical-align: top;\n",
       "    }\n",
       "\n",
       "    .dataframe thead th {\n",
       "        text-align: right;\n",
       "    }\n",
       "</style>\n",
       "<table border=\"1\" class=\"dataframe\">\n",
       "  <thead>\n",
       "    <tr style=\"text-align: right;\">\n",
       "      <th></th>\n",
       "    </tr>\n",
       "    <tr>\n",
       "      <th>HiddenService</th>\n",
       "    </tr>\n",
       "  </thead>\n",
       "  <tbody>\n",
       "    <tr>\n",
       "      <th>hydra7r4ztgb5akl.onion</th>\n",
       "    </tr>\n",
       "    <tr>\n",
       "      <th>has7faivfqsmx6i7.onion</th>\n",
       "    </tr>\n",
       "    <tr>\n",
       "      <th>x7giprgefwfvkeep.onion</th>\n",
       "    </tr>\n",
       "    <tr>\n",
       "      <th>ar3n2rbgaypmr2n4.onion</th>\n",
       "    </tr>\n",
       "    <tr>\n",
       "      <th>abbzm427aznghw7p.onion</th>\n",
       "    </tr>\n",
       "    <tr>\n",
       "      <th>...</th>\n",
       "    </tr>\n",
       "    <tr>\n",
       "      <th>juy4e6eicawzdrz7.onion</th>\n",
       "    </tr>\n",
       "    <tr>\n",
       "      <th>linkskgiymtyszdb.onion</th>\n",
       "    </tr>\n",
       "    <tr>\n",
       "      <th>mafiamkakdz7wlqz.onion</th>\n",
       "    </tr>\n",
       "    <tr>\n",
       "      <th>egeeemjcvnebsrtl.onion</th>\n",
       "    </tr>\n",
       "    <tr>\n",
       "      <th>pthcou337ii2uqy2.onion</th>\n",
       "    </tr>\n",
       "  </tbody>\n",
       "</table>\n",
       "<p>20487 rows × 0 columns</p>\n",
       "</div>"
      ],
      "text/plain": [
       "Empty DataFrame\n",
       "Columns: []\n",
       "Index: [hydra7r4ztgb5akl.onion, has7faivfqsmx6i7.onion, x7giprgefwfvkeep.onion, ar3n2rbgaypmr2n4.onion, abbzm427aznghw7p.onion, darthmaul.shops3jqx4hojok2.onion, grams2xrm7votxdn.onion, columbusradio55.shops3jqx4hojok2.onion, mirkota.3voaeq7o2obsrocx.onion, roundtableshop.vfvfq64a2bbfaeya.onion, pzd6hmbvpuhj3dj5.onion, lni2edc3hnh7rzml.onion, ohnhsuercp2uscpl.onion, pibn3u.oqrpduh73urmov7g.onion, cocopellishopandcompani.vfvfq64rtrefmdtd.onion, bu3gtdlpunuvbjl5.onion, kbd3ivgjnlomfuv5.onion, 4zv23jyh4mt4mcjw.onion, hgvn7ekvyt5l2vly.onion, bniegrjhbywyyjg4.onion, daganqpgntm5342y.onion, hash-mafia.shops3jqx4hojok2.onion, 9de135hfdvb961eefl.onion, fashionshop.shops3jckh3dexzy.onion, gwj5tp6isd5wywxe.onion, fixedm6epcqsa4aw.onion, giw2dn4hkyajnuvw.onion, 42h3snmdmiz3vlc3.onion, whitewizardshop.3voaeq7o2obsrocx.onion, mimiminsk.shops3jckh3dexzy.onion, triptank.shops3jqx4hojok2.onion, olwl33xtltj4i3lw.onion, deepdotbf3ekwahc.onion, karbavosshop.3voaeq7o2obsrocx.onion, jjek2rxz5upj6bsi.onion, fsocietyhf3x276p.onion, ytj52gf6fa2v7xjo.onion, bitblendo2qv6c4x.onion, bjaw6h36vwruhwvb.onion, vjfw3uzuojxb7rh3.onion, gkrejun6w6e2c2qi.onion, 7hrnmxmvfmnu7fjc.onion, huansvvguhop7lvv.onion, eolddjssg2iib5zm.onion, 4hojqdetomspo54r.onion, iqlnc7.ihvkyi5y5ob5fl7n.onion, blackninja.shops3jqx4hojok2.onion, grove-street.sholq4kbukl5mitc.onion, luxembourg.3voaeq7o2obsrocx.onion, tbgnhg.hkncub7v4e3jgirm.onion, py33ud6mo7gg3o35.onion, wnhve7cey7csg7rm.onion, diamondshop-cheb.sholq4kwf4sr7a52.onion, shops3jqx4hojok2.onion, smoker32p42r5qzx.onion, sc3njt2i2j4fvqa3.onionwikitjerryzg2yeq.onion, 7fv4vg4n26cxleel.onion, tdrv4qoeeuyweddr.onion, ledc4qhbrzgxqqap.onion, uzr67rujqcnz4eua.onion, bobmarli-2016.vfvfq64rtrefmdtd.onion, 72ue5zpzhzfgaoi3.onion, qd43byl2pgq5b7k3.onion, drugon.shops3jqx4hojok2.onion, 4zyaelxxxhu7oglf.onion, pjsjfnw2clwer6p5.onion, d6k6d3daas.ihvkyi5y5ob5fl7n.onion, pirania.3voaeq7o2obsrocx.onion, hightimes.sholq4kbukl5mitc.onion, eldorado.vfvfq64a2bbfaeya.onion, btcmultinjb4mlgh.onion, lt6ychu3k6fx3apu.onion, 73o3xz5qq2lf4roq.onion, h23lk3zwri75tly4.onion, dblmok.vfvfq64rtrefmdtd.onion, haxedcwi5duu363s.onion, tatdrugs.shops3jqx4hojok2.onion, thenetwork.shops3jqx4hojok2.onion, stuffmarket.shops3jqx4hojok2.onion, zwov6knqgdhfw2mq.onion, gorod-grehov.rampshop72lq6kp6.onion, axhihkin.vfvfq64rtrefmdtd.onion, greenmedicine.vfvfq64rtrefmdtd.onion, nimjytdjvjtfxdgm.onion, baseofdarkness.3voaeq7o2obsrocx.onion, f74zgeyuortbdb7s.onion, 4ryvrw3zjw7tcsuk.onion, r6ocuyxsp7jobwz2.onion, laundrymydvdi3we.onion, maryjane.vfvfq64rtrefmdtd.onion, lukomore.rampshop72lq6kp6.onion, mandarinshop.sholq4kbukl5mitc.onion, minijack.3voaeq7o2obsrocx.onion, boschku.3voaeq7o2obsrocx.onion, roundtableshop.shops3jqx4hojok2.onion, bontoni.rampshop72lq6kp6.onion, aka6uuhimtblhcdu.onion, russian-syndicate.sholq4kbukl5mitc.onion, hxpswozgdd2mgao2.onion, bf46suwozwwaj5kh.onion, ...]\n",
       "\n",
       "[20487 rows x 0 columns]"
      ]
     },
     "execution_count": 12,
     "metadata": {},
     "output_type": "execute_result"
    }
   ],
   "source": [
    "df"
   ]
  },
  {
   "cell_type": "code",
   "execution_count": 13,
   "metadata": {},
   "outputs": [
    {
     "data": {
      "text/plain": [
       "20487"
      ]
     },
     "execution_count": 13,
     "metadata": {},
     "output_type": "execute_result"
    }
   ],
   "source": [
    "# insert the hidden services into the table services\n",
    "# don't insert the rowid\n",
    "df.to_sql(tablename, conn, if_exists='append', index=True, index_label='HiddenService')"
   ]
  },
  {
   "cell_type": "code",
   "execution_count": 14,
   "metadata": {},
   "outputs": [
    {
     "name": "stdout",
     "output_type": "stream",
     "text": [
      "Error: Foreign key already exists for HiddenService => services.HiddenService\n"
     ]
    }
   ],
   "source": [
    "#!pip install sqlite-utils\n",
    "!sqlite-utils add-foreign-key darkwebreports.db pings HiddenService services HiddenService "
   ]
  },
  {
   "cell_type": "code",
   "execution_count": 31,
   "metadata": {},
   "outputs": [
    {
     "name": "stdout",
     "output_type": "stream",
     "text": [
      "The SQLite connection is closed\n"
     ]
    }
   ],
   "source": [
    "close_connection(conn)"
   ]
  },
  {
   "cell_type": "code",
   "execution_count": null,
   "metadata": {},
   "outputs": [],
   "source": []
  }
 ],
 "metadata": {
  "kernelspec": {
   "display_name": "Python 3",
   "language": "python",
   "name": "python3"
  },
  "language_info": {
   "codemirror_mode": {
    "name": "ipython",
    "version": 3
   },
   "file_extension": ".py",
   "mimetype": "text/x-python",
   "name": "python",
   "nbconvert_exporter": "python",
   "pygments_lexer": "ipython3",
   "version": "3.9.10"
  },
  "orig_nbformat": 4
 },
 "nbformat": 4,
 "nbformat_minor": 2
}
