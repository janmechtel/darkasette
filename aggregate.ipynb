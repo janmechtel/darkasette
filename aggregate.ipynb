{
 "cells": [
  {
   "cell_type": "code",
   "execution_count": 1,
   "metadata": {},
   "outputs": [],
   "source": [
    "%run database.py\n",
    "import pandas as pd"
   ]
  },
  {
   "cell_type": "code",
   "execution_count": 2,
   "metadata": {},
   "outputs": [
    {
     "name": "stdout",
     "output_type": "stream",
     "text": [
      "Connection to SQLite DB successful\n"
     ]
    }
   ],
   "source": [
    "conn = create_connection()"
   ]
  },
  {
   "cell_type": "code",
   "execution_count": 3,
   "metadata": {},
   "outputs": [],
   "source": [
    "# define columns as a list of pairs with title and type\n",
    "columns = [\n",
    "    ('HiddenService', 'TEXT PRIMARY KEY'), # TODO: Make FK in other tables?\n",
    "]"
   ]
  },
  {
   "cell_type": "code",
   "execution_count": 4,
   "metadata": {},
   "outputs": [
    {
     "name": "stdout",
     "output_type": "stream",
     "text": [
      "Table services dropped\n"
     ]
    }
   ],
   "source": [
    "#drop the table from the connection\n",
    "drop_table(services_tablename, conn)"
   ]
  },
  {
   "cell_type": "code",
   "execution_count": 5,
   "metadata": {},
   "outputs": [
    {
     "name": "stdout",
     "output_type": "stream",
     "text": [
      "CREATE TABLE IF NOT EXISTS \"services\" (\n",
      "\"HiddenService\" TEXT PRIMARY KEY);\n"
     ]
    },
    {
     "data": {
      "text/plain": [
       "<sqlite3.Cursor at 0x7fb041bc6960>"
      ]
     },
     "execution_count": 5,
     "metadata": {},
     "output_type": "execute_result"
    }
   ],
   "source": [
    "conn.execute(\n",
    "    generateCreateTableQuery(services_tablename, columns)\n",
    ")"
   ]
  },
  {
   "cell_type": "code",
   "execution_count": 7,
   "metadata": {},
   "outputs": [],
   "source": [
    "# get all the hidden services from the table pings and store them into a dataframe\n",
    "df = pd.read_sql_query(\"\"\"\n",
    "                       SELECT \n",
    "                       HiddenService,\n",
    "                       MIN(LastContactedDate) as FirstSeen_Date,\n",
    "                       MAX(LastUpDate) as LastSeen_Date\n",
    "                       FROM pings\n",
    "                       GROUP BY HiddenService\n",
    "                       \"\"\", conn)\n",
    "# make HiddenService the index\n",
    "df.set_index('HiddenService', inplace=True)\n",
    "\n",
    "# convert date strings to datetime objects\n",
    "df['FirstSeen_Date'] = pd.to_datetime(df['FirstSeen_Date'])\n",
    "df['LastSeen_Date'] = pd.to_datetime(df['LastSeen_Date'])\n",
    "\n",
    "# add age column\n",
    "df['Age'] = df['LastSeen_Date'] - df['FirstSeen_Date']"
   ]
  },
  {
   "cell_type": "code",
   "execution_count": 9,
   "metadata": {},
   "outputs": [],
   "source": [
    "# query the earliest and latest title per hidden service based on the LastContactedDate\n",
    "df2 = pd.read_sql_query(\"\"\"\n",
    "                        SELECT\n",
    "                            HiddenService,\n",
    "                            Title as Title_Earliest,\n",
    "                            Language as Language_Earliest,\n",
    "                            LastContactedDate\n",
    "                        FROM pings\n",
    "                        WHERE LastContactedDate IN (\n",
    "                            SELECT MIN(LastContactedDate)\n",
    "                            FROM pings\n",
    "                            GROUP BY HiddenService\n",
    "                        )\n",
    "                        ;   \n",
    "                        \"\"\", conn)"
   ]
  },
  {
   "cell_type": "code",
   "execution_count": 14,
   "metadata": {},
   "outputs": [],
   "source": [
    "# query the most frequent language per hidden service based on the count of the language in pings\n",
    "df3 = pd.read_sql_query(\"\"\"\n",
    "                        WITH LanguageCounts AS (\n",
    "                            -- Calculate the count of each language for each hidden service.\n",
    "                            SELECT\n",
    "                                HiddenService,\n",
    "                                Language,\n",
    "                                COUNT(*) AS LangCount\n",
    "                            FROM pings\n",
    "                            GROUP BY HiddenService, Language\n",
    "                        ),\n",
    "\n",
    "                        MaxLanguageCounts AS (\n",
    "                            -- Determine the maximum count for each hidden service.\n",
    "                            SELECT\n",
    "                                HiddenService,\n",
    "                                MAX(LangCount) AS MaxLangCount\n",
    "                            FROM LanguageCounts\n",
    "                            GROUP BY HiddenService\n",
    "                        )\n",
    "\n",
    "                        -- Join the two CTEs to determine the most frequent language for each hidden service.\n",
    "                        SELECT\n",
    "                            lc.HiddenService,\n",
    "                            lc.Language AS Language_MostFrequent\n",
    "                        FROM LanguageCounts lc\n",
    "                        JOIN MaxLanguageCounts mlc\n",
    "                        ON lc.HiddenService = mlc.HiddenService AND lc.LangCount = mlc.MaxLangCount\n",
    "                        \"\"\", conn)"
   ]
  },
  {
   "cell_type": "code",
   "execution_count": 16,
   "metadata": {},
   "outputs": [
    {
     "data": {
      "text/html": [
       "<div>\n",
       "<style scoped>\n",
       "    .dataframe tbody tr th:only-of-type {\n",
       "        vertical-align: middle;\n",
       "    }\n",
       "\n",
       "    .dataframe tbody tr th {\n",
       "        vertical-align: top;\n",
       "    }\n",
       "\n",
       "    .dataframe thead th {\n",
       "        text-align: right;\n",
       "    }\n",
       "</style>\n",
       "<table border=\"1\" class=\"dataframe\">\n",
       "  <thead>\n",
       "    <tr style=\"text-align: right;\">\n",
       "      <th></th>\n",
       "      <th>HiddenService</th>\n",
       "      <th>Title_Earliest</th>\n",
       "      <th>Language_Earliest</th>\n",
       "      <th>LastContactedDate</th>\n",
       "    </tr>\n",
       "  </thead>\n",
       "  <tbody>\n",
       "    <tr>\n",
       "      <th>0</th>\n",
       "      <td>484de3c52dfbd2e81744a9037ac3a9554fc443d9eec1a9...</td>\n",
       "      <td>403 Forbidden</td>\n",
       "      <td>da</td>\n",
       "      <td>2018-02-15</td>\n",
       "    </tr>\n",
       "    <tr>\n",
       "      <th>1</th>\n",
       "      <td>84eed506a2344a62f791d9e80380a8ac309f9586954edb...</td>\n",
       "      <td>OnionDrop</td>\n",
       "      <td>en</td>\n",
       "      <td>2018-02-15</td>\n",
       "    </tr>\n",
       "    <tr>\n",
       "      <th>2</th>\n",
       "      <td>f3e537fb895fb820d5c8862ce40146a5b3f1d25ea743c6...</td>\n",
       "      <td>Sign In - Hidden Clubs</td>\n",
       "      <td>en</td>\n",
       "      <td>2018-02-15</td>\n",
       "    </tr>\n",
       "    <tr>\n",
       "      <th>3</th>\n",
       "      <td>a04854eecb5879d3b6d84e95297f72762c50e6396fc4f6...</td>\n",
       "      <td>None</td>\n",
       "      <td>None</td>\n",
       "      <td>2018-02-15</td>\n",
       "    </tr>\n",
       "    <tr>\n",
       "      <th>4</th>\n",
       "      <td>83ea422f63436bf945d7d39d29bda3859faaca78841ba6...</td>\n",
       "      <td>None</td>\n",
       "      <td>None</td>\n",
       "      <td>2018-02-15</td>\n",
       "    </tr>\n",
       "    <tr>\n",
       "      <th>...</th>\n",
       "      <td>...</td>\n",
       "      <td>...</td>\n",
       "      <td>...</td>\n",
       "      <td>...</td>\n",
       "    </tr>\n",
       "    <tr>\n",
       "      <th>16321647</th>\n",
       "      <td>10040ce4c3fb72fcaee32b658f31670c24244e1a484b75...</td>\n",
       "      <td>Tor Blog | The Tor Project</td>\n",
       "      <td>en</td>\n",
       "      <td>2022-10-03</td>\n",
       "    </tr>\n",
       "    <tr>\n",
       "      <th>16321648</th>\n",
       "      <td>ce44c3ad63ba4263017199f400e942d8e6f16cdf2f04a9...</td>\n",
       "      <td>Technology, taught collectively. — Tech Learni...</td>\n",
       "      <td>en</td>\n",
       "      <td>2022-10-03</td>\n",
       "    </tr>\n",
       "    <tr>\n",
       "      <th>16321649</th>\n",
       "      <td>eb863fc7bb8f8e9cc2e0351b28cf1b0926fd5ee4c71d0e...</td>\n",
       "      <td>MARKET</td>\n",
       "      <td>en</td>\n",
       "      <td>2022-10-03</td>\n",
       "    </tr>\n",
       "    <tr>\n",
       "      <th>16321650</th>\n",
       "      <td>aebc9e8d456f0f18acdd94fca2948eddfa8edf22768421...</td>\n",
       "      <td>LoliPorn</td>\n",
       "      <td>en</td>\n",
       "      <td>2022-10-03</td>\n",
       "    </tr>\n",
       "    <tr>\n",
       "      <th>16321651</th>\n",
       "      <td>eb5d883a90cfaf8cfe5583bf7ff931da656b23ab08883e...</td>\n",
       "      <td>Systemli Paste</td>\n",
       "      <td>la</td>\n",
       "      <td>2022-10-03</td>\n",
       "    </tr>\n",
       "  </tbody>\n",
       "</table>\n",
       "<p>16321652 rows × 4 columns</p>\n",
       "</div>"
      ],
      "text/plain": [
       "                                              HiddenService  \\\n",
       "0         484de3c52dfbd2e81744a9037ac3a9554fc443d9eec1a9...   \n",
       "1         84eed506a2344a62f791d9e80380a8ac309f9586954edb...   \n",
       "2         f3e537fb895fb820d5c8862ce40146a5b3f1d25ea743c6...   \n",
       "3         a04854eecb5879d3b6d84e95297f72762c50e6396fc4f6...   \n",
       "4         83ea422f63436bf945d7d39d29bda3859faaca78841ba6...   \n",
       "...                                                     ...   \n",
       "16321647  10040ce4c3fb72fcaee32b658f31670c24244e1a484b75...   \n",
       "16321648  ce44c3ad63ba4263017199f400e942d8e6f16cdf2f04a9...   \n",
       "16321649  eb863fc7bb8f8e9cc2e0351b28cf1b0926fd5ee4c71d0e...   \n",
       "16321650  aebc9e8d456f0f18acdd94fca2948eddfa8edf22768421...   \n",
       "16321651  eb5d883a90cfaf8cfe5583bf7ff931da656b23ab08883e...   \n",
       "\n",
       "                                             Title_Earliest Language_Earliest  \\\n",
       "0                                             403 Forbidden                da   \n",
       "1                                                 OnionDrop                en   \n",
       "2                                    Sign In - Hidden Clubs                en   \n",
       "3                                                      None              None   \n",
       "4                                                      None              None   \n",
       "...                                                     ...               ...   \n",
       "16321647                         Tor Blog | The Tor Project                en   \n",
       "16321648  Technology, taught collectively. — Tech Learni...                en   \n",
       "16321649                                             MARKET                en   \n",
       "16321650                                           LoliPorn                en   \n",
       "16321651                                     Systemli Paste                la   \n",
       "\n",
       "         LastContactedDate  \n",
       "0               2018-02-15  \n",
       "1               2018-02-15  \n",
       "2               2018-02-15  \n",
       "3               2018-02-15  \n",
       "4               2018-02-15  \n",
       "...                    ...  \n",
       "16321647        2022-10-03  \n",
       "16321648        2022-10-03  \n",
       "16321649        2022-10-03  \n",
       "16321650        2022-10-03  \n",
       "16321651        2022-10-03  \n",
       "\n",
       "[16321652 rows x 4 columns]"
      ]
     },
     "execution_count": 16,
     "metadata": {},
     "output_type": "execute_result"
    }
   ],
   "source": [
    "df2"
   ]
  },
  {
   "cell_type": "code",
   "execution_count": 17,
   "metadata": {},
   "outputs": [
    {
     "ename": "MemoryError",
     "evalue": "Unable to allocate 39.5 GiB for an array with shape (5301583616,) and data type int64",
     "output_type": "error",
     "traceback": [
      "\u001b[0;31m---------------------------------------------------------------------------\u001b[0m",
      "\u001b[0;31mMemoryError\u001b[0m                               Traceback (most recent call last)",
      "\u001b[1;32m/home/jan/Projects/darkasette/aggregate.ipynb Cell 10\u001b[0m line \u001b[0;36m2\n\u001b[1;32m      <a href='vscode-notebook-cell:/home/jan/Projects/darkasette/aggregate.ipynb#X23sZmlsZQ%3D%3D?line=0'>1</a>\u001b[0m \u001b[39m#combine the dataframes\u001b[39;00m\n\u001b[0;32m----> <a href='vscode-notebook-cell:/home/jan/Projects/darkasette/aggregate.ipynb#X23sZmlsZQ%3D%3D?line=1'>2</a>\u001b[0m df \u001b[39m=\u001b[39m df\u001b[39m.\u001b[39;49mjoin(df2\u001b[39m.\u001b[39;49mset_index(\u001b[39m'\u001b[39;49m\u001b[39mHiddenService\u001b[39;49m\u001b[39m'\u001b[39;49m))\n\u001b[1;32m      <a href='vscode-notebook-cell:/home/jan/Projects/darkasette/aggregate.ipynb#X23sZmlsZQ%3D%3D?line=2'>3</a>\u001b[0m df \u001b[39m=\u001b[39m df\u001b[39m.\u001b[39mjoin(df3\u001b[39m.\u001b[39mset_index(\u001b[39m'\u001b[39m\u001b[39mHiddenService\u001b[39m\u001b[39m'\u001b[39m))\n\u001b[1;32m      <a href='vscode-notebook-cell:/home/jan/Projects/darkasette/aggregate.ipynb#X23sZmlsZQ%3D%3D?line=3'>4</a>\u001b[0m df\n",
      "File \u001b[0;32m~/.pyenv/versions/3.9.10/lib/python3.9/site-packages/pandas/core/frame.py:9729\u001b[0m, in \u001b[0;36mDataFrame.join\u001b[0;34m(self, other, on, how, lsuffix, rsuffix, sort, validate)\u001b[0m\n\u001b[1;32m   9566\u001b[0m \u001b[39mdef\u001b[39;00m \u001b[39mjoin\u001b[39m(\n\u001b[1;32m   9567\u001b[0m     \u001b[39mself\u001b[39m,\n\u001b[1;32m   9568\u001b[0m     other: DataFrame \u001b[39m|\u001b[39m Series \u001b[39m|\u001b[39m Iterable[DataFrame \u001b[39m|\u001b[39m Series],\n\u001b[0;32m   (...)\u001b[0m\n\u001b[1;32m   9574\u001b[0m     validate: \u001b[39mstr\u001b[39m \u001b[39m|\u001b[39m \u001b[39mNone\u001b[39;00m \u001b[39m=\u001b[39m \u001b[39mNone\u001b[39;00m,\n\u001b[1;32m   9575\u001b[0m ) \u001b[39m-\u001b[39m\u001b[39m>\u001b[39m DataFrame:\n\u001b[1;32m   9576\u001b[0m \u001b[39m    \u001b[39m\u001b[39m\"\"\"\u001b[39;00m\n\u001b[1;32m   9577\u001b[0m \u001b[39m    Join columns of another DataFrame.\u001b[39;00m\n\u001b[1;32m   9578\u001b[0m \n\u001b[0;32m   (...)\u001b[0m\n\u001b[1;32m   9727\u001b[0m \u001b[39m    5  K1  A5   B1\u001b[39;00m\n\u001b[1;32m   9728\u001b[0m \u001b[39m    \"\"\"\u001b[39;00m\n\u001b[0;32m-> 9729\u001b[0m     \u001b[39mreturn\u001b[39;00m \u001b[39mself\u001b[39;49m\u001b[39m.\u001b[39;49m_join_compat(\n\u001b[1;32m   9730\u001b[0m         other,\n\u001b[1;32m   9731\u001b[0m         on\u001b[39m=\u001b[39;49mon,\n\u001b[1;32m   9732\u001b[0m         how\u001b[39m=\u001b[39;49mhow,\n\u001b[1;32m   9733\u001b[0m         lsuffix\u001b[39m=\u001b[39;49mlsuffix,\n\u001b[1;32m   9734\u001b[0m         rsuffix\u001b[39m=\u001b[39;49mrsuffix,\n\u001b[1;32m   9735\u001b[0m         sort\u001b[39m=\u001b[39;49msort,\n\u001b[1;32m   9736\u001b[0m         validate\u001b[39m=\u001b[39;49mvalidate,\n\u001b[1;32m   9737\u001b[0m     )\n",
      "File \u001b[0;32m~/.pyenv/versions/3.9.10/lib/python3.9/site-packages/pandas/core/frame.py:9768\u001b[0m, in \u001b[0;36mDataFrame._join_compat\u001b[0;34m(self, other, on, how, lsuffix, rsuffix, sort, validate)\u001b[0m\n\u001b[1;32m   9758\u001b[0m     \u001b[39mif\u001b[39;00m how \u001b[39m==\u001b[39m \u001b[39m\"\u001b[39m\u001b[39mcross\u001b[39m\u001b[39m\"\u001b[39m:\n\u001b[1;32m   9759\u001b[0m         \u001b[39mreturn\u001b[39;00m merge(\n\u001b[1;32m   9760\u001b[0m             \u001b[39mself\u001b[39m,\n\u001b[1;32m   9761\u001b[0m             other,\n\u001b[0;32m   (...)\u001b[0m\n\u001b[1;32m   9766\u001b[0m             validate\u001b[39m=\u001b[39mvalidate,\n\u001b[1;32m   9767\u001b[0m         )\n\u001b[0;32m-> 9768\u001b[0m     \u001b[39mreturn\u001b[39;00m merge(\n\u001b[1;32m   9769\u001b[0m         \u001b[39mself\u001b[39;49m,\n\u001b[1;32m   9770\u001b[0m         other,\n\u001b[1;32m   9771\u001b[0m         left_on\u001b[39m=\u001b[39;49mon,\n\u001b[1;32m   9772\u001b[0m         how\u001b[39m=\u001b[39;49mhow,\n\u001b[1;32m   9773\u001b[0m         left_index\u001b[39m=\u001b[39;49mon \u001b[39mis\u001b[39;49;00m \u001b[39mNone\u001b[39;49;00m,\n\u001b[1;32m   9774\u001b[0m         right_index\u001b[39m=\u001b[39;49m\u001b[39mTrue\u001b[39;49;00m,\n\u001b[1;32m   9775\u001b[0m         suffixes\u001b[39m=\u001b[39;49m(lsuffix, rsuffix),\n\u001b[1;32m   9776\u001b[0m         sort\u001b[39m=\u001b[39;49msort,\n\u001b[1;32m   9777\u001b[0m         validate\u001b[39m=\u001b[39;49mvalidate,\n\u001b[1;32m   9778\u001b[0m     )\n\u001b[1;32m   9779\u001b[0m \u001b[39melse\u001b[39;00m:\n\u001b[1;32m   9780\u001b[0m     \u001b[39mif\u001b[39;00m on \u001b[39mis\u001b[39;00m \u001b[39mnot\u001b[39;00m \u001b[39mNone\u001b[39;00m:\n",
      "File \u001b[0;32m~/.pyenv/versions/3.9.10/lib/python3.9/site-packages/pandas/core/reshape/merge.py:162\u001b[0m, in \u001b[0;36mmerge\u001b[0;34m(left, right, how, on, left_on, right_on, left_index, right_index, sort, suffixes, copy, indicator, validate)\u001b[0m\n\u001b[1;32m    131\u001b[0m \u001b[39m@Substitution\u001b[39m(\u001b[39m\"\u001b[39m\u001b[39m\\n\u001b[39;00m\u001b[39mleft : DataFrame or named Series\u001b[39m\u001b[39m\"\u001b[39m)\n\u001b[1;32m    132\u001b[0m \u001b[39m@Appender\u001b[39m(_merge_doc, indents\u001b[39m=\u001b[39m\u001b[39m0\u001b[39m)\n\u001b[1;32m    133\u001b[0m \u001b[39mdef\u001b[39;00m \u001b[39mmerge\u001b[39m(\n\u001b[0;32m   (...)\u001b[0m\n\u001b[1;32m    146\u001b[0m     validate: \u001b[39mstr\u001b[39m \u001b[39m|\u001b[39m \u001b[39mNone\u001b[39;00m \u001b[39m=\u001b[39m \u001b[39mNone\u001b[39;00m,\n\u001b[1;32m    147\u001b[0m ) \u001b[39m-\u001b[39m\u001b[39m>\u001b[39m DataFrame:\n\u001b[1;32m    148\u001b[0m     op \u001b[39m=\u001b[39m _MergeOperation(\n\u001b[1;32m    149\u001b[0m         left,\n\u001b[1;32m    150\u001b[0m         right,\n\u001b[0;32m   (...)\u001b[0m\n\u001b[1;32m    160\u001b[0m         validate\u001b[39m=\u001b[39mvalidate,\n\u001b[1;32m    161\u001b[0m     )\n\u001b[0;32m--> 162\u001b[0m     \u001b[39mreturn\u001b[39;00m op\u001b[39m.\u001b[39;49mget_result(copy\u001b[39m=\u001b[39;49mcopy)\n",
      "File \u001b[0;32m~/.pyenv/versions/3.9.10/lib/python3.9/site-packages/pandas/core/reshape/merge.py:809\u001b[0m, in \u001b[0;36m_MergeOperation.get_result\u001b[0;34m(self, copy)\u001b[0m\n\u001b[1;32m    806\u001b[0m \u001b[39mif\u001b[39;00m \u001b[39mself\u001b[39m\u001b[39m.\u001b[39mindicator:\n\u001b[1;32m    807\u001b[0m     \u001b[39mself\u001b[39m\u001b[39m.\u001b[39mleft, \u001b[39mself\u001b[39m\u001b[39m.\u001b[39mright \u001b[39m=\u001b[39m \u001b[39mself\u001b[39m\u001b[39m.\u001b[39m_indicator_pre_merge(\u001b[39mself\u001b[39m\u001b[39m.\u001b[39mleft, \u001b[39mself\u001b[39m\u001b[39m.\u001b[39mright)\n\u001b[0;32m--> 809\u001b[0m join_index, left_indexer, right_indexer \u001b[39m=\u001b[39m \u001b[39mself\u001b[39;49m\u001b[39m.\u001b[39;49m_get_join_info()\n\u001b[1;32m    811\u001b[0m result \u001b[39m=\u001b[39m \u001b[39mself\u001b[39m\u001b[39m.\u001b[39m_reindex_and_concat(\n\u001b[1;32m    812\u001b[0m     join_index, left_indexer, right_indexer, copy\u001b[39m=\u001b[39mcopy\n\u001b[1;32m    813\u001b[0m )\n\u001b[1;32m    814\u001b[0m result \u001b[39m=\u001b[39m result\u001b[39m.\u001b[39m__finalize__(\u001b[39mself\u001b[39m, method\u001b[39m=\u001b[39m\u001b[39mself\u001b[39m\u001b[39m.\u001b[39m_merge_type)\n",
      "File \u001b[0;32m~/.pyenv/versions/3.9.10/lib/python3.9/site-packages/pandas/core/reshape/merge.py:1051\u001b[0m, in \u001b[0;36m_MergeOperation._get_join_info\u001b[0;34m(self)\u001b[0m\n\u001b[1;32m   1048\u001b[0m right_ax \u001b[39m=\u001b[39m \u001b[39mself\u001b[39m\u001b[39m.\u001b[39mright\u001b[39m.\u001b[39maxes[\u001b[39mself\u001b[39m\u001b[39m.\u001b[39maxis]\n\u001b[1;32m   1050\u001b[0m \u001b[39mif\u001b[39;00m \u001b[39mself\u001b[39m\u001b[39m.\u001b[39mleft_index \u001b[39mand\u001b[39;00m \u001b[39mself\u001b[39m\u001b[39m.\u001b[39mright_index \u001b[39mand\u001b[39;00m \u001b[39mself\u001b[39m\u001b[39m.\u001b[39mhow \u001b[39m!=\u001b[39m \u001b[39m\"\u001b[39m\u001b[39masof\u001b[39m\u001b[39m\"\u001b[39m:\n\u001b[0;32m-> 1051\u001b[0m     join_index, left_indexer, right_indexer \u001b[39m=\u001b[39m left_ax\u001b[39m.\u001b[39;49mjoin(\n\u001b[1;32m   1052\u001b[0m         right_ax, how\u001b[39m=\u001b[39;49m\u001b[39mself\u001b[39;49m\u001b[39m.\u001b[39;49mhow, return_indexers\u001b[39m=\u001b[39;49m\u001b[39mTrue\u001b[39;49;00m, sort\u001b[39m=\u001b[39;49m\u001b[39mself\u001b[39;49m\u001b[39m.\u001b[39;49msort\n\u001b[1;32m   1053\u001b[0m     )\n\u001b[1;32m   1055\u001b[0m \u001b[39melif\u001b[39;00m \u001b[39mself\u001b[39m\u001b[39m.\u001b[39mright_index \u001b[39mand\u001b[39;00m \u001b[39mself\u001b[39m\u001b[39m.\u001b[39mhow \u001b[39m==\u001b[39m \u001b[39m\"\u001b[39m\u001b[39mleft\u001b[39m\u001b[39m\"\u001b[39m:\n\u001b[1;32m   1056\u001b[0m     join_index, left_indexer, right_indexer \u001b[39m=\u001b[39m _left_join_on_index(\n\u001b[1;32m   1057\u001b[0m         left_ax, right_ax, \u001b[39mself\u001b[39m\u001b[39m.\u001b[39mleft_join_keys, sort\u001b[39m=\u001b[39m\u001b[39mself\u001b[39m\u001b[39m.\u001b[39msort\n\u001b[1;32m   1058\u001b[0m     )\n",
      "File \u001b[0;32m~/.pyenv/versions/3.9.10/lib/python3.9/site-packages/pandas/core/indexes/base.py:259\u001b[0m, in \u001b[0;36m_maybe_return_indexers.<locals>.join\u001b[0;34m(self, other, how, level, return_indexers, sort)\u001b[0m\n\u001b[1;32m    249\u001b[0m \u001b[39m@functools\u001b[39m\u001b[39m.\u001b[39mwraps(meth)\n\u001b[1;32m    250\u001b[0m \u001b[39mdef\u001b[39;00m \u001b[39mjoin\u001b[39m(\n\u001b[1;32m    251\u001b[0m     \u001b[39mself\u001b[39m,\n\u001b[0;32m   (...)\u001b[0m\n\u001b[1;32m    257\u001b[0m     sort: \u001b[39mbool\u001b[39m \u001b[39m=\u001b[39m \u001b[39mFalse\u001b[39;00m,\n\u001b[1;32m    258\u001b[0m ):\n\u001b[0;32m--> 259\u001b[0m     join_index, lidx, ridx \u001b[39m=\u001b[39m meth(\u001b[39mself\u001b[39;49m, other, how\u001b[39m=\u001b[39;49mhow, level\u001b[39m=\u001b[39;49mlevel, sort\u001b[39m=\u001b[39;49msort)\n\u001b[1;32m    260\u001b[0m     \u001b[39mif\u001b[39;00m \u001b[39mnot\u001b[39;00m return_indexers:\n\u001b[1;32m    261\u001b[0m         \u001b[39mreturn\u001b[39;00m join_index\n",
      "File \u001b[0;32m~/.pyenv/versions/3.9.10/lib/python3.9/site-packages/pandas/core/indexes/base.py:4500\u001b[0m, in \u001b[0;36mIndex.join\u001b[0;34m(self, other, how, level, return_indexers, sort)\u001b[0m\n\u001b[1;32m   4497\u001b[0m _validate_join_method(how)\n\u001b[1;32m   4499\u001b[0m \u001b[39mif\u001b[39;00m \u001b[39mnot\u001b[39;00m \u001b[39mself\u001b[39m\u001b[39m.\u001b[39mis_unique \u001b[39mand\u001b[39;00m \u001b[39mnot\u001b[39;00m other\u001b[39m.\u001b[39mis_unique:\n\u001b[0;32m-> 4500\u001b[0m     \u001b[39mreturn\u001b[39;00m \u001b[39mself\u001b[39;49m\u001b[39m.\u001b[39;49m_join_non_unique(other, how\u001b[39m=\u001b[39;49mhow)\n\u001b[1;32m   4501\u001b[0m \u001b[39melif\u001b[39;00m \u001b[39mnot\u001b[39;00m \u001b[39mself\u001b[39m\u001b[39m.\u001b[39mis_unique \u001b[39mor\u001b[39;00m \u001b[39mnot\u001b[39;00m other\u001b[39m.\u001b[39mis_unique:\n\u001b[1;32m   4502\u001b[0m     \u001b[39mif\u001b[39;00m \u001b[39mself\u001b[39m\u001b[39m.\u001b[39mis_monotonic_increasing \u001b[39mand\u001b[39;00m other\u001b[39m.\u001b[39mis_monotonic_increasing:\n",
      "File \u001b[0;32m~/.pyenv/versions/3.9.10/lib/python3.9/site-packages/pandas/core/indexes/base.py:4654\u001b[0m, in \u001b[0;36mIndex._join_non_unique\u001b[0;34m(self, other, how)\u001b[0m\n\u001b[1;32m   4651\u001b[0m \u001b[39m# We only get here if dtypes match\u001b[39;00m\n\u001b[1;32m   4652\u001b[0m \u001b[39massert\u001b[39;00m \u001b[39mself\u001b[39m\u001b[39m.\u001b[39mdtype \u001b[39m==\u001b[39m other\u001b[39m.\u001b[39mdtype\n\u001b[0;32m-> 4654\u001b[0m left_idx, right_idx \u001b[39m=\u001b[39m get_join_indexers(\n\u001b[1;32m   4655\u001b[0m     [\u001b[39mself\u001b[39;49m\u001b[39m.\u001b[39;49m_values], [other\u001b[39m.\u001b[39;49m_values], how\u001b[39m=\u001b[39;49mhow, sort\u001b[39m=\u001b[39;49m\u001b[39mTrue\u001b[39;49;00m\n\u001b[1;32m   4656\u001b[0m )\n\u001b[1;32m   4657\u001b[0m mask \u001b[39m=\u001b[39m left_idx \u001b[39m==\u001b[39m \u001b[39m-\u001b[39m\u001b[39m1\u001b[39m\n\u001b[1;32m   4659\u001b[0m join_idx \u001b[39m=\u001b[39m \u001b[39mself\u001b[39m\u001b[39m.\u001b[39mtake(left_idx)\n",
      "File \u001b[0;32m~/.pyenv/versions/3.9.10/lib/python3.9/site-packages/pandas/core/reshape/merge.py:1690\u001b[0m, in \u001b[0;36mget_join_indexers\u001b[0;34m(left_keys, right_keys, sort, how, **kwargs)\u001b[0m\n\u001b[1;32m   1680\u001b[0m join_func \u001b[39m=\u001b[39m {\n\u001b[1;32m   1681\u001b[0m     \u001b[39m\"\u001b[39m\u001b[39minner\u001b[39m\u001b[39m\"\u001b[39m: libjoin\u001b[39m.\u001b[39minner_join,\n\u001b[1;32m   1682\u001b[0m     \u001b[39m\"\u001b[39m\u001b[39mleft\u001b[39m\u001b[39m\"\u001b[39m: libjoin\u001b[39m.\u001b[39mleft_outer_join,\n\u001b[0;32m   (...)\u001b[0m\n\u001b[1;32m   1686\u001b[0m     \u001b[39m\"\u001b[39m\u001b[39mouter\u001b[39m\u001b[39m\"\u001b[39m: libjoin\u001b[39m.\u001b[39mfull_outer_join,\n\u001b[1;32m   1687\u001b[0m }[how]\n\u001b[1;32m   1689\u001b[0m \u001b[39m# error: Cannot call function of unknown type\u001b[39;00m\n\u001b[0;32m-> 1690\u001b[0m \u001b[39mreturn\u001b[39;00m join_func(lkey, rkey, count, \u001b[39m*\u001b[39;49m\u001b[39m*\u001b[39;49mkwargs)\n",
      "File \u001b[0;32m~/.pyenv/versions/3.9.10/lib/python3.9/site-packages/pandas/_libs/join.pyx:104\u001b[0m, in \u001b[0;36mpandas._libs.join.left_outer_join\u001b[0;34m()\u001b[0m\n",
      "\u001b[0;31mMemoryError\u001b[0m: Unable to allocate 39.5 GiB for an array with shape (5301583616,) and data type int64"
     ]
    }
   ],
   "source": [
    "#combine the dataframes\n",
    "df = df.join(df2.set_index('HiddenService'))\n",
    "df = df.join(df3.set_index('HiddenService'))\n",
    "df"
   ]
  },
  {
   "cell_type": "code",
   "execution_count": 20,
   "metadata": {},
   "outputs": [
    {
     "ename": "OperationalError",
     "evalue": "duplicate column name: FirstSeen_Date",
     "output_type": "error",
     "traceback": [
      "\u001b[0;31m---------------------------------------------------------------------------\u001b[0m",
      "\u001b[0;31mOperationalError\u001b[0m                          Traceback (most recent call last)",
      "Cell \u001b[0;32mIn[20], line 2\u001b[0m\n\u001b[1;32m      1\u001b[0m \u001b[39m# alter the table to add the new columns\u001b[39;00m\n\u001b[0;32m----> 2\u001b[0m conn\u001b[39m.\u001b[39;49mexecute(\u001b[39m\"\"\"\u001b[39;49m\n\u001b[1;32m      3\u001b[0m \u001b[39m                ALTER TABLE \u001b[39;49m\u001b[39m\"\"\"\u001b[39;49m \u001b[39m+\u001b[39;49m services_tablename \u001b[39m+\u001b[39;49m \u001b[39m\"\"\"\u001b[39;49m\n\u001b[1;32m      4\u001b[0m \u001b[39m                ADD COLUMN FirstSeen_Date TEXT\u001b[39;49m\n\u001b[1;32m      5\u001b[0m \u001b[39m            \u001b[39;49m\u001b[39m\"\"\"\u001b[39;49m)\n",
      "\u001b[0;31mOperationalError\u001b[0m: duplicate column name: FirstSeen_Date"
     ]
    }
   ],
   "source": [
    "# alter the table to add the new columns\n",
    "conn.execute(\"\"\"\n",
    "                ALTER TABLE \"\"\" + services_tablename + \"\"\"\n",
    "                ADD COLUMN FirstSeen_Date TEXT\n",
    "            \"\"\")"
   ]
  },
  {
   "cell_type": "code",
   "execution_count": 26,
   "metadata": {},
   "outputs": [],
   "source": [
    "conn.execute(\"\"\"\n",
    "    UPDATE \"\"\" + services_tablename + \"\"\" AS s\n",
    "    SET FirstSeen_Date = (\n",
    "        SELECT \n",
    "            MAX(LastContactedDate) as FirstSeen_Date\n",
    "        FROM \"\"\" + pings_tablename + \"\"\" as p\n",
    "        WHERE p.HiddenService = s.HiddenService\n",
    "    );\n",
    "\"\"\")\n",
    "conn.commit()"
   ]
  },
  {
   "cell_type": "code",
   "execution_count": null,
   "metadata": {},
   "outputs": [],
   "source": [
    "WITH LanguageCounts AS (\n",
    "    SELECT \n",
    "        HiddenService,\n",
    "        Language,\n",
    "        COUNT(Language) AS lang_count\n",
    "    FROM pings\n",
    "    GROUP BY HiddenService, Language\n",
    "),\n",
    "\n",
    "FirstLanguage AS (\n",
    "    SELECT \n",
    "        HiddenService,\n",
    "        FIRST_VALUE(Language) OVER (PARTITION BY HiddenService ORDER BY lang_count DESC) AS most_used_language\n",
    "    FROM LanguageCounts\n",
    ")\n",
    "\n",
    "SELECT DISTINCT\n",
    "    HiddenService,\n",
    "    most_used_language\n",
    "    \n",
    "FROM FirstLanguage;"
   ]
  },
  {
   "cell_type": "code",
   "execution_count": 20,
   "metadata": {},
   "outputs": [
    {
     "data": {
      "text/html": [
       "<div>\n",
       "<style scoped>\n",
       "    .dataframe tbody tr th:only-of-type {\n",
       "        vertical-align: middle;\n",
       "    }\n",
       "\n",
       "    .dataframe tbody tr th {\n",
       "        vertical-align: top;\n",
       "    }\n",
       "\n",
       "    .dataframe thead th {\n",
       "        text-align: right;\n",
       "    }\n",
       "</style>\n",
       "<table border=\"1\" class=\"dataframe\">\n",
       "  <thead>\n",
       "    <tr style=\"text-align: right;\">\n",
       "      <th></th>\n",
       "      <th>FirstSeen_Date</th>\n",
       "      <th>LastSeen_Date</th>\n",
       "    </tr>\n",
       "    <tr>\n",
       "      <th>HiddenService</th>\n",
       "      <th></th>\n",
       "      <th></th>\n",
       "    </tr>\n",
       "  </thead>\n",
       "  <tbody>\n",
       "    <tr>\n",
       "      <th>00003ac5d174c575728e87444efda3637ae6c7ad34cc4e77bcb10bd450c17e89</th>\n",
       "      <td>2017-09-15</td>\n",
       "      <td>None</td>\n",
       "    </tr>\n",
       "    <tr>\n",
       "      <th>0000589b844ab7a343596717fa781540a554973210fe47972ee5d7e4b9a322df</th>\n",
       "      <td>2017-11-26</td>\n",
       "      <td>None</td>\n",
       "    </tr>\n",
       "    <tr>\n",
       "      <th>00008a4a2b07f5e24b2faa42f20b20b0c269ef2bfea1d8066be5b0828720bc93</th>\n",
       "      <td>2017-09-27</td>\n",
       "      <td>None</td>\n",
       "    </tr>\n",
       "    <tr>\n",
       "      <th>0000e8523baebd71a193279a082929f54d3bb944986a9ebc344a721d207957e2</th>\n",
       "      <td>2017-11-09</td>\n",
       "      <td>None</td>\n",
       "    </tr>\n",
       "    <tr>\n",
       "      <th>00010bd1b2520e9f07a9b96bbb533b542e9b2ca13e44c76acffdb9871da08c16</th>\n",
       "      <td>2017-09-21</td>\n",
       "      <td>None</td>\n",
       "    </tr>\n",
       "    <tr>\n",
       "      <th>...</th>\n",
       "      <td>...</td>\n",
       "      <td>...</td>\n",
       "    </tr>\n",
       "    <tr>\n",
       "      <th>ffff7ef98c91f41c50c4b1e1be28b24f9e99a17a9e636b6c00eb949fe6a209f7</th>\n",
       "      <td>2017-11-10</td>\n",
       "      <td>2020-04-28</td>\n",
       "    </tr>\n",
       "    <tr>\n",
       "      <th>ffffa0a6ac2431cae1b7172820675f2f065dafd1a7caae813b773c72b8196255</th>\n",
       "      <td>2017-09-28</td>\n",
       "      <td>None</td>\n",
       "    </tr>\n",
       "    <tr>\n",
       "      <th>ffffc3a8ea15d2e04002b9c80954d69835bb59f37066527460d01e51faa187fe</th>\n",
       "      <td>2017-10-23</td>\n",
       "      <td>None</td>\n",
       "    </tr>\n",
       "    <tr>\n",
       "      <th>ffffc46e7da83b7dceb4406959a4b705d407a5aa1053f44f220558a68846d691</th>\n",
       "      <td>2017-11-22</td>\n",
       "      <td>None</td>\n",
       "    </tr>\n",
       "    <tr>\n",
       "      <th>ffffe3af1b659dbc8073317589e217e6b404d2b69de03583523773dfb3cb6330</th>\n",
       "      <td>2017-09-25</td>\n",
       "      <td>None</td>\n",
       "    </tr>\n",
       "  </tbody>\n",
       "</table>\n",
       "<p>411580 rows × 2 columns</p>\n",
       "</div>"
      ],
      "text/plain": [
       "                                                   FirstSeen_Date  \\\n",
       "HiddenService                                                       \n",
       "00003ac5d174c575728e87444efda3637ae6c7ad34cc4e7...     2017-09-15   \n",
       "0000589b844ab7a343596717fa781540a554973210fe479...     2017-11-26   \n",
       "00008a4a2b07f5e24b2faa42f20b20b0c269ef2bfea1d80...     2017-09-27   \n",
       "0000e8523baebd71a193279a082929f54d3bb944986a9eb...     2017-11-09   \n",
       "00010bd1b2520e9f07a9b96bbb533b542e9b2ca13e44c76...     2017-09-21   \n",
       "...                                                           ...   \n",
       "ffff7ef98c91f41c50c4b1e1be28b24f9e99a17a9e636b6...     2017-11-10   \n",
       "ffffa0a6ac2431cae1b7172820675f2f065dafd1a7caae8...     2017-09-28   \n",
       "ffffc3a8ea15d2e04002b9c80954d69835bb59f37066527...     2017-10-23   \n",
       "ffffc46e7da83b7dceb4406959a4b705d407a5aa1053f44...     2017-11-22   \n",
       "ffffe3af1b659dbc8073317589e217e6b404d2b69de0358...     2017-09-25   \n",
       "\n",
       "                                                   LastSeen_Date  \n",
       "HiddenService                                                     \n",
       "00003ac5d174c575728e87444efda3637ae6c7ad34cc4e7...          None  \n",
       "0000589b844ab7a343596717fa781540a554973210fe479...          None  \n",
       "00008a4a2b07f5e24b2faa42f20b20b0c269ef2bfea1d80...          None  \n",
       "0000e8523baebd71a193279a082929f54d3bb944986a9eb...          None  \n",
       "00010bd1b2520e9f07a9b96bbb533b542e9b2ca13e44c76...          None  \n",
       "...                                                          ...  \n",
       "ffff7ef98c91f41c50c4b1e1be28b24f9e99a17a9e636b6...    2020-04-28  \n",
       "ffffa0a6ac2431cae1b7172820675f2f065dafd1a7caae8...          None  \n",
       "ffffc3a8ea15d2e04002b9c80954d69835bb59f37066527...          None  \n",
       "ffffc46e7da83b7dceb4406959a4b705d407a5aa1053f44...          None  \n",
       "ffffe3af1b659dbc8073317589e217e6b404d2b69de0358...          None  \n",
       "\n",
       "[411580 rows x 2 columns]"
      ]
     },
     "execution_count": 20,
     "metadata": {},
     "output_type": "execute_result"
    }
   ],
   "source": [
    "df"
   ]
  },
  {
   "cell_type": "code",
   "execution_count": 9,
   "metadata": {},
   "outputs": [
    {
     "data": {
      "text/plain": [
       "411580"
      ]
     },
     "execution_count": 9,
     "metadata": {},
     "output_type": "execute_result"
    }
   ],
   "source": [
    "# insert the hidden services into the table services\n",
    "# don't insert the rowid\n",
    "df.to_sql(services_tablename, conn, if_exists='append', index=True, index_label='HiddenService')"
   ]
  },
  {
   "cell_type": "code",
   "execution_count": 10,
   "metadata": {},
   "outputs": [],
   "source": [
    "#!pip install sqlite-utils\n",
    "!sqlite-utils add-foreign-key darkasette.db pings HiddenService services HiddenService "
   ]
  },
  {
   "cell_type": "code",
   "execution_count": 3,
   "metadata": {},
   "outputs": [
    {
     "name": "stdout",
     "output_type": "stream",
     "text": [
      "The SQLite connection is closed\n"
     ]
    }
   ],
   "source": [
    "close_connection(conn)"
   ]
  },
  {
   "cell_type": "code",
   "execution_count": 22,
   "metadata": {},
   "outputs": [],
   "source": [
    "conn.close()"
   ]
  },
  {
   "cell_type": "code",
   "execution_count": null,
   "metadata": {},
   "outputs": [],
   "source": []
  }
 ],
 "metadata": {
  "kernelspec": {
   "display_name": "Python 3",
   "language": "python",
   "name": "python3"
  },
  "language_info": {
   "codemirror_mode": {
    "name": "ipython",
    "version": 3
   },
   "file_extension": ".py",
   "mimetype": "text/x-python",
   "name": "python",
   "nbconvert_exporter": "python",
   "pygments_lexer": "ipython3",
   "version": "3.9.10"
  },
  "orig_nbformat": 4
 },
 "nbformat": 4,
 "nbformat_minor": 2
}
