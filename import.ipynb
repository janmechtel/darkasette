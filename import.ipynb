{
 "cells": [
  {
   "cell_type": "code",
   "execution_count": 156,
   "metadata": {},
   "outputs": [],
   "source": [
    "import sqlite3"
   ]
  },
  {
   "cell_type": "code",
   "execution_count": 157,
   "metadata": {},
   "outputs": [],
   "source": [
    "# open a sqlite database\n",
    "conn = sqlite3.connect('darkwebreports.db')"
   ]
  },
  {
   "cell_type": "code",
   "execution_count": 158,
   "metadata": {},
   "outputs": [],
   "source": [
    "tablename = 'pings'"
   ]
  },
  {
   "cell_type": "code",
   "execution_count": 159,
   "metadata": {},
   "outputs": [],
   "source": [
    "# define columns as a list of pairs with title and type\n",
    "columns = [\n",
    "    ('HiddenService', 'TEXT'),\n",
    "    ('Language', 'short_string CHAR(2)'),\n",
    "    ('HTTPStatus', 'INTEGER'),\n",
    "    ('FirstSeen', 'TEXT'),\n",
    "    ('LastContacted', 'TEXT'),\n",
    "    ('LastUp', 'TEXT'),\n",
    "    ('Title', 'TEXT'),\n",
    "    ('Sheetname', 'TEXT'),\n",
    "]\n",
    "# TODO: store dateime as int (and/or split date/time) to put an index on the date\n",
    "# TODO: consider more indexes          "
   ]
  },
  {
   "cell_type": "code",
   "execution_count": 160,
   "metadata": {},
   "outputs": [],
   "source": [
    "def generateCreateTableQuery(tablename, columns):\n",
    "    query = 'CREATE TABLE IF NOT EXISTS \"' + tablename + '\" ('\n",
    "    for column in columns:\n",
    "        query += '\\n\"' + column[0] + '\" ' + column[1] + ','\n",
    "    query = query[:-1] + ');'\n",
    "    print(query)\n",
    "    return query"
   ]
  },
  {
   "cell_type": "code",
   "execution_count": 161,
   "metadata": {},
   "outputs": [
    {
     "name": "stdout",
     "output_type": "stream",
     "text": [
      "CREATE TABLE IF NOT EXISTS \"pings\" (\n",
      "\"HiddenService\" TEXT,\n",
      "\"Language\" short_string CHAR(2),\n",
      "\"HTTPStatus\" INTEGER,\n",
      "\"FirstSeen\" TEXT,\n",
      "\"LastContacted\" TEXT,\n",
      "\"LastUp\" TEXT,\n",
      "\"Title\" TEXT,\n",
      "\"Sheetname\" TEXT);\n"
     ]
    },
    {
     "data": {
      "text/plain": [
       "<sqlite3.Cursor at 0x7f90881c5d50>"
      ]
     },
     "execution_count": 161,
     "metadata": {},
     "output_type": "execute_result"
    }
   ],
   "source": [
    "conn.execute(\n",
    "    generateCreateTableQuery(tablename, columns)\n",
    ")"
   ]
  },
  {
   "cell_type": "code",
   "execution_count": 164,
   "metadata": {},
   "outputs": [
    {
     "data": {
      "text/plain": [
       "<sqlite3.Cursor at 0x7f90881c5180>"
      ]
     },
     "execution_count": 164,
     "metadata": {},
     "output_type": "execute_result"
    }
   ],
   "source": [
    "# create an index on the column \"Hidden Service\"\n",
    "conn.execute('''CREATE INDEX IF NOT EXISTS \"''' + tablename + '''_HiddenService\" ON ''' + tablename + '''(\"HiddenService\");''')        \n",
    "conn.execute('''CREATE INDEX IF NOT EXISTS \"''' + tablename + '''_Sheetname\" ON ''' + tablename + '''(\"Sheetname\");''')        \n",
    "conn.execute('''CREATE INDEX IF NOT EXISTS \"''' + tablename + '''_Title\" ON ''' + tablename + '''(\"Title\");''')        "
   ]
  },
  {
   "cell_type": "code",
   "execution_count": 165,
   "metadata": {},
   "outputs": [],
   "source": [
    "import pandas as pd\n",
    "import os\n",
    "\n",
    "# iterate through the .xlsx files in the rawreports folder and add it to a list of files\n",
    "files = []\n",
    "for file in os.listdir('rawreports'):\n",
    "    if file.endswith('.xlsx'):\n",
    "        files.append(file)\n"
   ]
  },
  {
   "cell_type": "code",
   "execution_count": 166,
   "metadata": {},
   "outputs": [
    {
     "data": {
      "text/plain": [
       "10"
      ]
     },
     "execution_count": 166,
     "metadata": {},
     "output_type": "execute_result"
    }
   ],
   "source": [
    "#only take the first files for testing purposes\n",
    "files = files[:10]\n",
    "len(files)"
   ]
  },
  {
   "cell_type": "code",
   "execution_count": 167,
   "metadata": {},
   "outputs": [],
   "source": [
    "sheets = [\"New Today\", \"Down\", \"Up\"]"
   ]
  },
  {
   "cell_type": "code",
   "execution_count": 168,
   "metadata": {},
   "outputs": [],
   "source": [
    "def import_sheet(sheetname, file):\n",
    "    # read the excel file into a pandas dataframe\n",
    "    df = pd.read_excel('rawreports/' + file,sheetname)\n",
    "    \n",
    "    df.columns = df.columns.map(lambda x: x.replace(' ', ''))\n",
    "    # if the column LastSeen does not exist create it with the value of the column FirstSeen\n",
    "    if 'LastSeen' not in df.columns:\n",
    "        df['LastSeen'] = df['FirstSeen']\n",
    "        df = df.drop(columns=['FirstSeen'])\n",
    "    # add a column for the sheetname\n",
    "    df['Sheetname'] = sheetname\n",
    "    # convert the dataframe to a sqlite table\n",
    "    df.to_sql(tablename, conn, if_exists='append', index=False)\n",
    "    return df"
   ]
  },
  {
   "cell_type": "code",
   "execution_count": 169,
   "metadata": {},
   "outputs": [
    {
     "name": "stdout",
     "output_type": "stream",
     "text": [
      "HiddenServices-2018-2-14.xlsx New Today\n",
      "3\n",
      "HiddenServices-2018-2-14.xlsx Down\n",
      "11735\n",
      "HiddenServices-2018-2-14.xlsx Up\n",
      "4838\n",
      "HiddenServices-2020-8-12.xlsx New Today\n",
      "0\n",
      "HiddenServices-2020-8-12.xlsx Down\n",
      "1486\n",
      "HiddenServices-2020-8-12.xlsx Up\n",
      "3250\n",
      "HiddenServices-2019-11-3.xlsx New Today\n",
      "1\n",
      "HiddenServices-2019-11-3.xlsx Down\n",
      "1165\n",
      "HiddenServices-2019-11-3.xlsx Up\n",
      "3723\n",
      "HiddenServices-2022-1-29.xlsx New Today\n",
      "0\n",
      "HiddenServices-2022-1-29.xlsx Down\n",
      "2038\n",
      "HiddenServices-2022-1-29.xlsx Up\n",
      "2628\n",
      "HiddenServices-2020-2-2.xlsx New Today\n",
      "0\n",
      "HiddenServices-2020-2-2.xlsx Down\n",
      "1239\n",
      "HiddenServices-2020-2-2.xlsx Up\n",
      "3658\n",
      "HiddenServices-2019-3-14.xlsx New Today\n",
      "2\n",
      "HiddenServices-2019-3-14.xlsx Down\n",
      "774\n",
      "HiddenServices-2019-3-14.xlsx Up\n",
      "5474\n",
      "HiddenServices-2020-1-22.xlsx New Today\n",
      "5\n",
      "HiddenServices-2020-1-22.xlsx Down\n",
      "1168\n",
      "HiddenServices-2020-1-22.xlsx Up\n",
      "3766\n",
      "HiddenServices-2023-3-17.xlsx New Today\n",
      "0\n",
      "HiddenServices-2023-3-17.xlsx Down\n",
      "2171\n",
      "HiddenServices-2023-3-17.xlsx Up\n",
      "604\n",
      "HiddenServices-2021-2-11.xlsx New Today\n",
      "1\n",
      "HiddenServices-2021-2-11.xlsx Down\n",
      "1631\n",
      "HiddenServices-2021-2-11.xlsx Up\n",
      "3755\n",
      "HiddenServices-2021-4-9.xlsx New Today\n",
      "2\n",
      "HiddenServices-2021-4-9.xlsx Down\n",
      "2102\n",
      "HiddenServices-2021-4-9.xlsx Up\n",
      "3834\n"
     ]
    }
   ],
   "source": [
    "# define df as empty df to store the result for debugging purposes in the notebook\n",
    "df = pd.DataFrame()\n",
    "\n",
    "for file in files:\n",
    "    for sheetname in sheets:\n",
    "        print(file, sheetname)\n",
    "        df = import_sheet(sheetname, file)\n",
    "        print(len(df))\n",
    "#print(df)"
   ]
  },
  {
   "cell_type": "code",
   "execution_count": 137,
   "metadata": {},
   "outputs": [],
   "source": [
    "#df"
   ]
  },
  {
   "cell_type": "code",
   "execution_count": 151,
   "metadata": {},
   "outputs": [],
   "source": [
    "conn.execute('VACUUM')\n",
    "conn.commit()\n",
    "conn.close()"
   ]
  },
  {
   "cell_type": "code",
   "execution_count": null,
   "metadata": {},
   "outputs": [],
   "source": []
  }
 ],
 "metadata": {
  "kernelspec": {
   "display_name": "Python 3",
   "language": "python",
   "name": "python3"
  },
  "language_info": {
   "codemirror_mode": {
    "name": "ipython",
    "version": 3
   },
   "file_extension": ".py",
   "mimetype": "text/x-python",
   "name": "python",
   "nbconvert_exporter": "python",
   "pygments_lexer": "ipython3",
   "version": "3.9.10"
  },
  "orig_nbformat": 4
 },
 "nbformat": 4,
 "nbformat_minor": 2
}
