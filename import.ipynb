{
 "cells": [
  {
   "cell_type": "code",
   "execution_count": 14,
   "metadata": {},
   "outputs": [],
   "source": [
    "%run database.py"
   ]
  },
  {
   "cell_type": "code",
   "execution_count": 15,
   "metadata": {},
   "outputs": [
    {
     "name": "stdout",
     "output_type": "stream",
     "text": [
      "Connection to SQLite DB successful\n"
     ]
    }
   ],
   "source": [
    "conn = create_connection()"
   ]
  },
  {
   "cell_type": "code",
   "execution_count": 16,
   "metadata": {},
   "outputs": [],
   "source": [
    "tablename = 'pings'"
   ]
  },
  {
   "cell_type": "code",
   "execution_count": 17,
   "metadata": {},
   "outputs": [],
   "source": [
    "# define columns as a list of pairs with title and type\n",
    "columns = [\n",
    "    ('HiddenService', 'TEXT'), # Indexed\n",
    "    ('Language', 'short_string CHAR(2)'), \n",
    "    ('HTTPStatus', 'INTEGER'),\n",
    "    ('LastContactedDate', 'TEXT'), # Index\n",
    "    ('LastContactedTime', 'TEXT'),\n",
    "    ('LastUpDate', 'TEXT'),  # Index\n",
    "    ('Title', 'TEXT'), # Indexed\n",
    "    ('Sheetname', 'TEXT'), # Indexed\n",
    "]"
   ]
  },
  {
   "cell_type": "code",
   "execution_count": null,
   "metadata": {},
   "outputs": [],
   "source": []
  },
  {
   "cell_type": "code",
   "execution_count": 18,
   "metadata": {},
   "outputs": [
    {
     "name": "stdout",
     "output_type": "stream",
     "text": [
      "CREATE TABLE IF NOT EXISTS \"pings\" (\n",
      "\"HiddenService\" TEXT,\n",
      "\"Language\" short_string CHAR(2),\n",
      "\"HTTPStatus\" INTEGER,\n",
      "\"LastContactedDate\" TEXT,\n",
      "\"LastContactedTime\" TEXT,\n",
      "\"LastUpDate\" TEXT,\n",
      "\"Title\" TEXT,\n",
      "\"Sheetname\" TEXT);\n"
     ]
    },
    {
     "data": {
      "text/plain": [
       "<sqlite3.Cursor at 0x7f4f400581f0>"
      ]
     },
     "execution_count": 18,
     "metadata": {},
     "output_type": "execute_result"
    }
   ],
   "source": [
    "conn.execute(\n",
    "    generateCreateTableQuery(tablename, columns)\n",
    ")"
   ]
  },
  {
   "cell_type": "code",
   "execution_count": 19,
   "metadata": {},
   "outputs": [
    {
     "data": {
      "text/plain": [
       "<sqlite3.Cursor at 0x7f4ef3b3b650>"
      ]
     },
     "execution_count": 19,
     "metadata": {},
     "output_type": "execute_result"
    }
   ],
   "source": [
    "# create an index on the column \"Hidden Service\"\n",
    "conn.execute('''CREATE INDEX IF NOT EXISTS \"''' + tablename + '''_HiddenService\" ON ''' + tablename + '''(\"HiddenService\");''')        \n",
    "conn.execute('''CREATE INDEX IF NOT EXISTS \"''' + tablename + '''_Sheetname\" ON ''' + tablename + '''(\"Sheetname\");''')        \n",
    "conn.execute('''CREATE INDEX IF NOT EXISTS \"''' + tablename + '''_Title\" ON ''' + tablename + '''(\"Title\");''')        \n",
    "conn.execute('''CREATE INDEX IF NOT EXISTS \"''' + tablename + '''_LastContactedDate\" ON ''' + tablename + '''(\"LastContactedDate\");''')        \n",
    "conn.execute('''CREATE INDEX IF NOT EXISTS \"''' + tablename + '''_LastUpDate\" ON ''' + tablename + '''(\"LastUpDate\");''')        "
   ]
  },
  {
   "cell_type": "code",
   "execution_count": 20,
   "metadata": {},
   "outputs": [],
   "source": [
    "import pandas as pd\n",
    "import os\n",
    "\n",
    "# iterate through the .xlsx files in the rawreports folder and add it to a list of files\n",
    "files = []\n",
    "for file in os.listdir('rawreports'):\n",
    "    if file.endswith('.xlsx'):\n",
    "        files.append(file)\n"
   ]
  },
  {
   "cell_type": "code",
   "execution_count": 21,
   "metadata": {},
   "outputs": [
    {
     "data": {
      "text/plain": [
       "3"
      ]
     },
     "execution_count": 21,
     "metadata": {},
     "output_type": "execute_result"
    }
   ],
   "source": [
    "#only take the first files for testing purposes\n",
    "#files = files[:3]\n",
    "len(files)"
   ]
  },
  {
   "cell_type": "code",
   "execution_count": 22,
   "metadata": {},
   "outputs": [],
   "source": [
    "sheets = [\"New Today\", \"Down\", \"Up\"]"
   ]
  },
  {
   "cell_type": "code",
   "execution_count": 23,
   "metadata": {},
   "outputs": [],
   "source": [
    "def import_sheet(sheetname, file):\n",
    "    # read the excel file into a pandas dataframe\n",
    "    df = pd.read_excel('rawreports/' + file,sheetname)\n",
    "    \n",
    "    df.columns = df.columns.map(lambda x: x.replace(' ', ''))\n",
    "    # if the column LastSeen does not exist create it with the value of the column FirstSeen\n",
    "    if len(df) > 0: \n",
    "        if 'LastContacted' not in df.columns:\n",
    "            df['LastContacted'] = df['FirstSeen']\n",
    "            df = df.drop(columns=['FirstSeen'])\n",
    "        # split LastContacted into date and time\n",
    "        df['LastContactedDate'] = df['LastContacted'].str.split(' ', n=1, expand=True)[0] \n",
    "        df['LastContactedTime'] = df['LastContacted'].str.split(' ', n=1, expand=True)[1]\n",
    "        df = df.drop(columns=['LastContacted'])\n",
    "\n",
    "        if 'LastUp' in df.columns:\n",
    "            # ignoring time from LastUp, as we probably have it in LastContacted\n",
    "            df['LastUpDate'] = df['LastUp'].str.split(' ', n=1, expand=True)[0]\n",
    "            df = df.drop(columns=['LastUp'])\n",
    "            # replace 'Never' with Null in LastUpDate\n",
    "            df['LastUpDate'] = df['LastUpDate'].replace('Never', None)\n",
    "\n",
    "        # add a column for the sheetname\n",
    "        df['Sheetname'] = sheetname\n",
    "        # convert the dataframe to a sqlite table\n",
    "        df.to_sql(tablename, conn, if_exists='append', index=False)\n",
    "    return df"
   ]
  },
  {
   "cell_type": "code",
   "execution_count": 24,
   "metadata": {},
   "outputs": [
    {
     "name": "stdout",
     "output_type": "stream",
     "text": [
      "HiddenServices-2018-2-14.xlsx New Today\n"
     ]
    },
    {
     "name": "stdout",
     "output_type": "stream",
     "text": [
      "3\n",
      "HiddenServices-2018-2-14.xlsx Down\n",
      "11735\n",
      "HiddenServices-2018-2-14.xlsx Up\n",
      "4838\n",
      "HiddenServices-2020-8-12.xlsx New Today\n",
      "0\n",
      "HiddenServices-2020-8-12.xlsx Down\n",
      "1486\n",
      "HiddenServices-2020-8-12.xlsx Up\n",
      "3250\n",
      "HiddenServices-2019-11-3.xlsx New Today\n",
      "1\n",
      "HiddenServices-2019-11-3.xlsx Down\n",
      "1165\n",
      "HiddenServices-2019-11-3.xlsx Up\n",
      "3723\n"
     ]
    }
   ],
   "source": [
    "# define df as empty df to store the result for debugging purposes in the notebook\n",
    "df = pd.DataFrame()\n",
    "\n",
    "for file in files:\n",
    "    for sheetname in sheets:\n",
    "        print(file, sheetname)\n",
    "        df = import_sheet(sheetname, file)\n",
    "        print(len(df))\n",
    "#print(df)"
   ]
  },
  {
   "cell_type": "code",
   "execution_count": 25,
   "metadata": {},
   "outputs": [],
   "source": [
    "#df"
   ]
  },
  {
   "cell_type": "code",
   "execution_count": 26,
   "metadata": {},
   "outputs": [
    {
     "name": "stdout",
     "output_type": "stream",
     "text": [
      "The SQLite connection is closed\n"
     ]
    }
   ],
   "source": [
    "close_connection(conn)"
   ]
  },
  {
   "cell_type": "code",
   "execution_count": null,
   "metadata": {},
   "outputs": [],
   "source": []
  }
 ],
 "metadata": {
  "kernelspec": {
   "display_name": "Python 3",
   "language": "python",
   "name": "python3"
  },
  "language_info": {
   "codemirror_mode": {
    "name": "ipython",
    "version": 3
   },
   "file_extension": ".py",
   "mimetype": "text/x-python",
   "name": "python",
   "nbconvert_exporter": "python",
   "pygments_lexer": "ipython3",
   "version": "3.9.10"
  },
  "orig_nbformat": 4
 },
 "nbformat": 4,
 "nbformat_minor": 2
}
