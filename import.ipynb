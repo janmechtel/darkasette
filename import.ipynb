{
 "cells": [
  {
   "cell_type": "code",
   "execution_count": 125,
   "metadata": {},
   "outputs": [],
   "source": [
    "import sqlite3"
   ]
  },
  {
   "cell_type": "code",
   "execution_count": 126,
   "metadata": {},
   "outputs": [],
   "source": [
    "# open a sqlite database\n",
    "conn = sqlite3.connect('darkwebreports.db')"
   ]
  },
  {
   "cell_type": "code",
   "execution_count": 127,
   "metadata": {},
   "outputs": [],
   "source": [
    "tablename = 'pings'"
   ]
  },
  {
   "cell_type": "code",
   "execution_count": 128,
   "metadata": {},
   "outputs": [],
   "source": [
    "# define columns as a list of pairs with title and type\n",
    "columns = [\n",
    "    ('HiddenService', 'TEXT'),\n",
    "    ('Language', 'short_string CHAR(2)'),\n",
    "    ('HTTPStatus', 'INTEGER'),\n",
    "    ('FirstSeen', 'TEXT'),\n",
    "    ('LastContacted', 'TEXT'),\n",
    "    ('LastUp', 'TEXT'),\n",
    "    ('Title', 'TEXT'),\n",
    "    ('Sheetname', 'TEXT'),\n",
    "]\n",
    "# TODO: combine date columns First Seen and LastContacted into one date column\n",
    "# TODO: store dateime as int (and/or split date/time) to put an index on the date\n",
    "# TODO: consider more indexes          "
   ]
  },
  {
   "cell_type": "code",
   "execution_count": 129,
   "metadata": {},
   "outputs": [],
   "source": [
    "def generateCreateTableQuery(tablename, columns):\n",
    "    query = 'CREATE TABLE \"' + tablename + '\" ('\n",
    "    for column in columns:\n",
    "        query += '\\n\"' + column[0] + '\" ' + column[1] + ','\n",
    "    query = query[:-1] + ');'\n",
    "    print(query)\n",
    "    return query"
   ]
  },
  {
   "cell_type": "code",
   "execution_count": 130,
   "metadata": {},
   "outputs": [
    {
     "name": "stdout",
     "output_type": "stream",
     "text": [
      "CREATE TABLE \"pings\" (\n",
      "\"HiddenService\" TEXT,\n",
      "\"Language\" short_string CHAR(2),\n",
      "\"HTTPStatus\" INTEGER,\n",
      "\"FirstSeen\" TEXT,\n",
      "\"LastContacted\" TEXT,\n",
      "\"LastUp\" TEXT,\n",
      "\"Title\" TEXT,\n",
      "\"Sheetname\" TEXT);\n"
     ]
    },
    {
     "data": {
      "text/plain": [
       "<sqlite3.Cursor at 0x7f90873b31f0>"
      ]
     },
     "execution_count": 130,
     "metadata": {},
     "output_type": "execute_result"
    }
   ],
   "source": [
    "conn.execute(\n",
    "    generateCreateTableQuery(tablename, columns)\n",
    ")"
   ]
  },
  {
   "cell_type": "code",
   "execution_count": 131,
   "metadata": {},
   "outputs": [
    {
     "data": {
      "text/plain": [
       "<sqlite3.Cursor at 0x7f908740e570>"
      ]
     },
     "execution_count": 131,
     "metadata": {},
     "output_type": "execute_result"
    }
   ],
   "source": [
    "# create an index on the column \"Hidden Service\"\n",
    "conn.execute('''CREATE INDEX \"''' + tablename + '''_HiddenService\" ON ''' + tablename + '''(\"HiddenService\");''')        "
   ]
  },
  {
   "cell_type": "code",
   "execution_count": 132,
   "metadata": {},
   "outputs": [],
   "source": [
    "import pandas as pd\n",
    "import os\n",
    "\n",
    "# iterate through the .xlsx files in the rawreports folder and add it to a list of files\n",
    "files = []\n",
    "for file in os.listdir('rawreports'):\n",
    "    if file.endswith('.xlsx'):\n",
    "        files.append(file)\n"
   ]
  },
  {
   "cell_type": "code",
   "execution_count": 133,
   "metadata": {},
   "outputs": [
    {
     "data": {
      "text/plain": [
       "1"
      ]
     },
     "execution_count": 133,
     "metadata": {},
     "output_type": "execute_result"
    }
   ],
   "source": [
    "#only take the first files for testing purposes\n",
    "files = files[:1]\n",
    "len(files)"
   ]
  },
  {
   "cell_type": "code",
   "execution_count": 134,
   "metadata": {},
   "outputs": [],
   "source": [
    "sheets = [\"New Today\", \"Down\", \"Up\"]"
   ]
  },
  {
   "cell_type": "code",
   "execution_count": 135,
   "metadata": {},
   "outputs": [],
   "source": [
    "def import_sheet(sheetname, file):\n",
    "    # read the excel file into a pandas dataframe\n",
    "    df = pd.read_excel('rawreports/' + file,sheetname)\n",
    "    \n",
    "    df.columns = df.columns.map(lambda x: x.replace(' ', ''))\n",
    "    # add a column for the sheetname\n",
    "    df['Sheetname'] = sheetname\n",
    "    # convert the dataframe to a sqlite table\n",
    "    df.to_sql(tablename, conn, if_exists='append', index=False)\n",
    "    return df"
   ]
  },
  {
   "cell_type": "code",
   "execution_count": 136,
   "metadata": {},
   "outputs": [
    {
     "name": "stdout",
     "output_type": "stream",
     "text": [
      "HiddenServices-2018-2-14.xlsx New Today\n",
      "3\n",
      "HiddenServices-2018-2-14.xlsx Down\n",
      "11735\n",
      "HiddenServices-2018-2-14.xlsx Up\n",
      "4838\n"
     ]
    }
   ],
   "source": [
    "# define df as empty df to store the result for debugging purposes in the notebook\n",
    "df = pd.DataFrame()\n",
    "\n",
    "for file in files:\n",
    "    for sheetname in sheets:\n",
    "        print(file, sheetname)\n",
    "        df = import_sheet(sheetname, file)\n",
    "        print(len(df))\n",
    "#print(df)"
   ]
  },
  {
   "cell_type": "code",
   "execution_count": 137,
   "metadata": {},
   "outputs": [],
   "source": [
    "#df"
   ]
  },
  {
   "cell_type": "code",
   "execution_count": 138,
   "metadata": {},
   "outputs": [],
   "source": [
    "conn.execute('VACUUM')\n",
    "conn.commit()\n",
    "conn.close()"
   ]
  },
  {
   "cell_type": "code",
   "execution_count": null,
   "metadata": {},
   "outputs": [],
   "source": []
  }
 ],
 "metadata": {
  "kernelspec": {
   "display_name": "Python 3",
   "language": "python",
   "name": "python3"
  },
  "language_info": {
   "codemirror_mode": {
    "name": "ipython",
    "version": 3
   },
   "file_extension": ".py",
   "mimetype": "text/x-python",
   "name": "python",
   "nbconvert_exporter": "python",
   "pygments_lexer": "ipython3",
   "version": "3.9.10"
  },
  "orig_nbformat": 4
 },
 "nbformat": 4,
 "nbformat_minor": 2
}
