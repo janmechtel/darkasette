{
 "cells": [
  {
   "cell_type": "code",
   "execution_count": 16,
   "metadata": {},
   "outputs": [],
   "source": [
    "import sqlite3"
   ]
  },
  {
   "cell_type": "code",
   "execution_count": 32,
   "metadata": {},
   "outputs": [],
   "source": [
    "# open a sqlite database\n",
    "conn = sqlite3.connect('darkwebreports.db')"
   ]
  },
  {
   "cell_type": "code",
   "execution_count": 18,
   "metadata": {},
   "outputs": [],
   "source": [
    "import pandas as pd\n",
    "import os\n",
    "\n",
    "# iterate through the .xlsx files in the rawreports folder and add it to a list of files\n",
    "files = []\n",
    "for file in os.listdir('rawreports'):\n",
    "    if file.endswith('.xlsx'):\n",
    "        files.append(file)\n"
   ]
  },
  {
   "cell_type": "code",
   "execution_count": 19,
   "metadata": {},
   "outputs": [
    {
     "data": {
      "text/plain": [
       "['HiddenServices-2017-10-1.xlsx', 'HiddenServices-2017-10-10.xlsx']"
      ]
     },
     "execution_count": 19,
     "metadata": {},
     "output_type": "execute_result"
    }
   ],
   "source": [
    "files"
   ]
  },
  {
   "cell_type": "code",
   "execution_count": 26,
   "metadata": {},
   "outputs": [],
   "source": [
    "# go through the \n",
    "# sheets = [\"New Today\", \"Down\", \"Up\"]\n",
    "# TODO: expand to more sheet types\n",
    "sheets = [\"New Today\"]"
   ]
  },
  {
   "cell_type": "code",
   "execution_count": 33,
   "metadata": {},
   "outputs": [],
   "source": [
    "tablename = \"pings\"\n",
    "\n",
    "def import_sheet(sheetname, file):\n",
    "    # read the excel file into a pandas dataframe\n",
    "    df = pd.read_excel('rawreports/' + file,sheetname)\n",
    "\n",
    "    # add a column for the sheetname\n",
    "    df['sheetname'] = sheetname\n",
    "\n",
    "    # convert the dataframe to a sqlite table\n",
    "    return df.to_sql(tablename, conn, if_exists='append', index=False)"
   ]
  },
  {
   "cell_type": "code",
   "execution_count": null,
   "metadata": {},
   "outputs": [],
   "source": []
  },
  {
   "cell_type": "code",
   "execution_count": 34,
   "metadata": {},
   "outputs": [
    {
     "name": "stdout",
     "output_type": "stream",
     "text": [
      "HiddenServices-2017-10-1.xlsx New Today\n",
      "HiddenServices-2017-10-10.xlsx New Today\n"
     ]
    }
   ],
   "source": [
    "for file in files:\n",
    "    for sheetname in sheets:\n",
    "        print(file, sheetname)\n",
    "        import_sheet(sheetname, file)"
   ]
  },
  {
   "cell_type": "code",
   "execution_count": null,
   "metadata": {},
   "outputs": [],
   "source": [
    "# TODO: proper column types"
   ]
  },
  {
   "cell_type": "code",
   "execution_count": 13,
   "metadata": {},
   "outputs": [
    {
     "data": {
      "text/html": [
       "<div>\n",
       "<style scoped>\n",
       "    .dataframe tbody tr th:only-of-type {\n",
       "        vertical-align: middle;\n",
       "    }\n",
       "\n",
       "    .dataframe tbody tr th {\n",
       "        vertical-align: top;\n",
       "    }\n",
       "\n",
       "    .dataframe thead th {\n",
       "        text-align: right;\n",
       "    }\n",
       "</style>\n",
       "<table border=\"1\" class=\"dataframe\">\n",
       "  <thead>\n",
       "    <tr style=\"text-align: right;\">\n",
       "      <th></th>\n",
       "      <th>Hidden Service</th>\n",
       "      <th>Language</th>\n",
       "      <th>HTTP Status</th>\n",
       "      <th>First Seen</th>\n",
       "      <th>Title</th>\n",
       "    </tr>\n",
       "  </thead>\n",
       "  <tbody>\n",
       "    <tr>\n",
       "      <th>0</th>\n",
       "      <td>torr53ln3ubz6q3l.onion</td>\n",
       "      <td>en</td>\n",
       "      <td>200</td>\n",
       "      <td>2017-10-02 08:49:56</td>\n",
       "      <td>Site hosted by Dark Systems hosting service</td>\n",
       "    </tr>\n",
       "    <tr>\n",
       "      <th>1</th>\n",
       "      <td>ctphf6bpkfk2ob6f.onion</td>\n",
       "      <td>ru</td>\n",
       "      <td>200</td>\n",
       "      <td>2017-10-02 07:01:19</td>\n",
       "      <td>Site hosted by Daniel's hosting service</td>\n",
       "    </tr>\n",
       "    <tr>\n",
       "      <th>2</th>\n",
       "      <td>vuw4jloeybvfqcbp.onion</td>\n",
       "      <td>en</td>\n",
       "      <td>200</td>\n",
       "      <td>2017-10-02 07:22:55</td>\n",
       "      <td>Site hosted by Daniel's hosting service</td>\n",
       "    </tr>\n",
       "    <tr>\n",
       "      <th>3</th>\n",
       "      <td>gltpn62hs3bu2oww.onion</td>\n",
       "      <td>en</td>\n",
       "      <td>200</td>\n",
       "      <td>2017-10-02 08:44:00</td>\n",
       "      <td>Parked Page - h4x0rz Hosting</td>\n",
       "    </tr>\n",
       "    <tr>\n",
       "      <th>4</th>\n",
       "      <td>efhhbygo5cziekgz.onion</td>\n",
       "      <td>da</td>\n",
       "      <td>403</td>\n",
       "      <td>2017-10-02 13:51:57</td>\n",
       "      <td>403 Forbidden</td>\n",
       "    </tr>\n",
       "    <tr>\n",
       "      <th>5</th>\n",
       "      <td>2akqwppjdxqj6e4e.onion</td>\n",
       "      <td>en</td>\n",
       "      <td>200</td>\n",
       "      <td>2017-10-02 12:41:41</td>\n",
       "      <td>testing it</td>\n",
       "    </tr>\n",
       "    <tr>\n",
       "      <th>6</th>\n",
       "      <td>7hpqrgvgtytdxdgo.onion</td>\n",
       "      <td>en</td>\n",
       "      <td>200</td>\n",
       "      <td>2017-10-02 11:19:56</td>\n",
       "      <td>Parked Page - h4x0rz Hosting</td>\n",
       "    </tr>\n",
       "    <tr>\n",
       "      <th>7</th>\n",
       "      <td>gyuka4k2ypwujzgw.onion</td>\n",
       "      <td>en</td>\n",
       "      <td>401</td>\n",
       "      <td>2017-10-02 23:14:19</td>\n",
       "      <td>401 Unauthorized</td>\n",
       "    </tr>\n",
       "    <tr>\n",
       "      <th>8</th>\n",
       "      <td>hostingr3ohiyhph.onion</td>\n",
       "      <td>en</td>\n",
       "      <td>200</td>\n",
       "      <td>2017-10-02 01:02:20</td>\n",
       "      <td>Dark Systems Hosting</td>\n",
       "    </tr>\n",
       "    <tr>\n",
       "      <th>9</th>\n",
       "      <td>a7p6vb27w6p56ol7.onion</td>\n",
       "      <td>en</td>\n",
       "      <td>200</td>\n",
       "      <td>2017-10-02 05:47:52</td>\n",
       "      <td>Site hosted by Dark Systems hosting service</td>\n",
       "    </tr>\n",
       "    <tr>\n",
       "      <th>10</th>\n",
       "      <td>o74sh5cnvmvxiver.onion</td>\n",
       "      <td>en</td>\n",
       "      <td>200</td>\n",
       "      <td>2017-10-02 13:39:18</td>\n",
       "      <td>Site hosted by Daniel's hosting service</td>\n",
       "    </tr>\n",
       "    <tr>\n",
       "      <th>11</th>\n",
       "      <td>cth7v2ng7ufmgcyf.onion</td>\n",
       "      <td>pt</td>\n",
       "      <td>200</td>\n",
       "      <td>2017-10-02 21:54:52</td>\n",
       "      <td>Atenção descobrimos a identidade de um dos gol...</td>\n",
       "    </tr>\n",
       "    <tr>\n",
       "      <th>12</th>\n",
       "      <td>jacu7fqh7edt6yka.onion</td>\n",
       "      <td>en</td>\n",
       "      <td>200</td>\n",
       "      <td>2017-10-02 16:25:11</td>\n",
       "      <td>Site hosted by Dark Systems hosting service</td>\n",
       "    </tr>\n",
       "    <tr>\n",
       "      <th>13</th>\n",
       "      <td>zd3qhu7u7wprcuxz.onion</td>\n",
       "      <td>en</td>\n",
       "      <td>200</td>\n",
       "      <td>2017-10-02 16:34:51</td>\n",
       "      <td>Parked Page - h4x0rz Hosting</td>\n",
       "    </tr>\n",
       "    <tr>\n",
       "      <th>14</th>\n",
       "      <td>3jxccbjbkzmv3trv.onion</td>\n",
       "      <td>en</td>\n",
       "      <td>200</td>\n",
       "      <td>2017-10-02 21:14:40</td>\n",
       "      <td>Site hosted by Dark Systems hosting service</td>\n",
       "    </tr>\n",
       "  </tbody>\n",
       "</table>\n",
       "</div>"
      ],
      "text/plain": [
       "            Hidden Service Language  HTTP Status           First Seen  \\\n",
       "0   torr53ln3ubz6q3l.onion       en          200  2017-10-02 08:49:56   \n",
       "1   ctphf6bpkfk2ob6f.onion       ru          200  2017-10-02 07:01:19   \n",
       "2   vuw4jloeybvfqcbp.onion       en          200  2017-10-02 07:22:55   \n",
       "3   gltpn62hs3bu2oww.onion       en          200  2017-10-02 08:44:00   \n",
       "4   efhhbygo5cziekgz.onion       da          403  2017-10-02 13:51:57   \n",
       "5   2akqwppjdxqj6e4e.onion       en          200  2017-10-02 12:41:41   \n",
       "6   7hpqrgvgtytdxdgo.onion       en          200  2017-10-02 11:19:56   \n",
       "7   gyuka4k2ypwujzgw.onion       en          401  2017-10-02 23:14:19   \n",
       "8   hostingr3ohiyhph.onion       en          200  2017-10-02 01:02:20   \n",
       "9   a7p6vb27w6p56ol7.onion       en          200  2017-10-02 05:47:52   \n",
       "10  o74sh5cnvmvxiver.onion       en          200  2017-10-02 13:39:18   \n",
       "11  cth7v2ng7ufmgcyf.onion       pt          200  2017-10-02 21:54:52   \n",
       "12  jacu7fqh7edt6yka.onion       en          200  2017-10-02 16:25:11   \n",
       "13  zd3qhu7u7wprcuxz.onion       en          200  2017-10-02 16:34:51   \n",
       "14  3jxccbjbkzmv3trv.onion       en          200  2017-10-02 21:14:40   \n",
       "\n",
       "                                                Title  \n",
       "0         Site hosted by Dark Systems hosting service  \n",
       "1             Site hosted by Daniel's hosting service  \n",
       "2             Site hosted by Daniel's hosting service  \n",
       "3                       Parked Page - h4x0rz Hosting   \n",
       "4                                       403 Forbidden  \n",
       "5                                          testing it  \n",
       "6                       Parked Page - h4x0rz Hosting   \n",
       "7                                    401 Unauthorized  \n",
       "8                                Dark Systems Hosting  \n",
       "9         Site hosted by Dark Systems hosting service  \n",
       "10            Site hosted by Daniel's hosting service  \n",
       "11  Atenção descobrimos a identidade de um dos gol...  \n",
       "12        Site hosted by Dark Systems hosting service  \n",
       "13                      Parked Page - h4x0rz Hosting   \n",
       "14        Site hosted by Dark Systems hosting service  "
      ]
     },
     "execution_count": 13,
     "metadata": {},
     "output_type": "execute_result"
    }
   ],
   "source": [
    "df"
   ]
  },
  {
   "cell_type": "code",
   "execution_count": null,
   "metadata": {},
   "outputs": [],
   "source": []
  }
 ],
 "metadata": {
  "kernelspec": {
   "display_name": "Python 3",
   "language": "python",
   "name": "python3"
  },
  "language_info": {
   "codemirror_mode": {
    "name": "ipython",
    "version": 3
   },
   "file_extension": ".py",
   "mimetype": "text/x-python",
   "name": "python",
   "nbconvert_exporter": "python",
   "pygments_lexer": "ipython3",
   "version": "3.9.10"
  },
  "orig_nbformat": 4
 },
 "nbformat": 4,
 "nbformat_minor": 2
}
