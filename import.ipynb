{
 "cells": [
  {
   "cell_type": "code",
   "execution_count": 17,
   "metadata": {},
   "outputs": [],
   "source": [
    "%run database.py"
   ]
  },
  {
   "cell_type": "code",
   "execution_count": 18,
   "metadata": {},
   "outputs": [
    {
     "name": "stdout",
     "output_type": "stream",
     "text": [
      "Connection to SQLite DB successful\n"
     ]
    }
   ],
   "source": [
    "conn = create_connection()"
   ]
  },
  {
   "cell_type": "code",
   "execution_count": 19,
   "metadata": {},
   "outputs": [],
   "source": [
    "tablename = 'pings'"
   ]
  },
  {
   "cell_type": "code",
   "execution_count": 20,
   "metadata": {},
   "outputs": [],
   "source": [
    "# define columns as a list of pairs with title and type\n",
    "columns = [\n",
    "    ('HiddenService', 'TEXT'), # Indexed\n",
    "    ('Language', 'short_string CHAR(2)'), # Indexed \n",
    "    ('HTTPStatus', 'INTEGER'), # Indexed\n",
    "    ('LastContactedDate', 'TEXT'), # Indexed\n",
    "    ('LastContactedTime', 'TEXT'),\n",
    "    ('LastUpDate', 'TEXT'),  # Indexed\n",
    "    ('Title', 'TEXT'), # Indexed\n",
    "    ('Sheetname', 'TEXT'), # Indexed\n",
    "]"
   ]
  },
  {
   "cell_type": "code",
   "execution_count": null,
   "metadata": {},
   "outputs": [],
   "source": []
  },
  {
   "cell_type": "code",
   "execution_count": 21,
   "metadata": {},
   "outputs": [
    {
     "name": "stdout",
     "output_type": "stream",
     "text": [
      "CREATE TABLE IF NOT EXISTS \"pings\" (\n",
      "\"HiddenService\" TEXT,\n",
      "\"Language\" short_string CHAR(2),\n",
      "\"HTTPStatus\" INTEGER,\n",
      "\"LastContactedDate\" TEXT,\n",
      "\"LastContactedTime\" TEXT,\n",
      "\"LastUpDate\" TEXT,\n",
      "\"Title\" TEXT,\n",
      "\"Sheetname\" TEXT);\n"
     ]
    },
    {
     "data": {
      "text/plain": [
       "<sqlite3.Cursor at 0x7fa4b451d500>"
      ]
     },
     "execution_count": 21,
     "metadata": {},
     "output_type": "execute_result"
    }
   ],
   "source": [
    "conn.execute(\n",
    "    generateCreateTableQuery(tablename, columns)\n",
    ")"
   ]
  },
  {
   "cell_type": "code",
   "execution_count": 22,
   "metadata": {},
   "outputs": [
    {
     "data": {
      "text/plain": [
       "<sqlite3.Cursor at 0x7fa4643a6500>"
      ]
     },
     "execution_count": 22,
     "metadata": {},
     "output_type": "execute_result"
    }
   ],
   "source": [
    "# create an index on the column \"Hidden Service\"\n",
    "conn.execute('''CREATE INDEX IF NOT EXISTS \"''' + tablename + '''_HiddenService\" ON ''' + tablename + '''(\"HiddenService\");''')        \n",
    "conn.execute('''CREATE INDEX IF NOT EXISTS \"''' + tablename + '''_Language\" ON ''' + tablename + '''(\"Language\");''')        \n",
    "conn.execute('''CREATE INDEX IF NOT EXISTS \"''' + tablename + '''_HTTPStatus\" ON ''' + tablename + '''(\"HTTPStatus\");''')        \n",
    "conn.execute('''CREATE INDEX IF NOT EXISTS \"''' + tablename + '''_Sheetname\" ON ''' + tablename + '''(\"Sheetname\");''')        \n",
    "conn.execute('''CREATE INDEX IF NOT EXISTS \"''' + tablename + '''_Title\" ON ''' + tablename + '''(\"Title\");''')        \n",
    "conn.execute('''CREATE INDEX IF NOT EXISTS \"''' + tablename + '''_LastContactedDate\" ON ''' + tablename + '''(\"LastContactedDate\");''')        \n",
    "conn.execute('''CREATE INDEX IF NOT EXISTS \"''' + tablename + '''_LastUpDate\" ON ''' + tablename + '''(\"LastUpDate\");''')        "
   ]
  },
  {
   "cell_type": "code",
   "execution_count": 23,
   "metadata": {},
   "outputs": [],
   "source": [
    "import pandas as pd\n",
    "import os\n",
    "\n",
    "# iterate through the .xlsx files in the rawreports folder and add it to a list of files\n",
    "files = []\n",
    "for file in os.listdir('rawreports'):\n",
    "    if file.endswith('.xlsx'):\n",
    "        files.append(file)\n"
   ]
  },
  {
   "cell_type": "code",
   "execution_count": 29,
   "metadata": {},
   "outputs": [
    {
     "data": {
      "text/plain": [
       "3"
      ]
     },
     "execution_count": 29,
     "metadata": {},
     "output_type": "execute_result"
    }
   ],
   "source": [
    "#only take the first files for testing purposes\n",
    "#files = files[:3]\n",
    "len(files)"
   ]
  },
  {
   "cell_type": "code",
   "execution_count": 30,
   "metadata": {},
   "outputs": [],
   "source": [
    "sheets = [\"New Today\", \"Down\", \"Up\"]"
   ]
  },
  {
   "cell_type": "code",
   "execution_count": 31,
   "metadata": {},
   "outputs": [],
   "source": [
    "import hashlib\n",
    "\n",
    "def hash_url(url: str) -> str:\n",
    "    return hashlib.sha256(url.encode()).hexdigest()\n",
    "\n",
    "# url = \"http://your_hidden_service_url_with_up_to_300_characters...\"\n",
    "# hashed_url = hash_url(url)\n",
    "# print(hashed_url)"
   ]
  },
  {
   "cell_type": "code",
   "execution_count": 32,
   "metadata": {},
   "outputs": [],
   "source": [
    "def import_sheet(sheetname, file):\n",
    "    # read the excel file into a pandas dataframe\n",
    "    df = pd.read_excel('rawreports/' + file,sheetname)\n",
    "    \n",
    "    df.columns = df.columns.map(lambda x: x.replace(' ', ''))\n",
    "    \n",
    "    # replace the column HIddenService with a hashed version of it\n",
    "    df['HiddenService'] = df['HiddenService'].map(lambda x: hash_url(x))\n",
    "    \n",
    "    # if the column LastSeen does not exist create it with the value of the column FirstSeen\n",
    "    if len(df) > 0: \n",
    "        if 'LastContacted' not in df.columns:\n",
    "            df['LastContacted'] = df['FirstSeen']\n",
    "            df = df.drop(columns=['FirstSeen'])\n",
    "        # split LastContacted into date and time\n",
    "        df['LastContactedDate'] = df['LastContacted'].str.split(' ', n=1, expand=True)[0] \n",
    "        df['LastContactedTime'] = df['LastContacted'].str.split(' ', n=1, expand=True)[1]\n",
    "        df = df.drop(columns=['LastContacted'])\n",
    "\n",
    "        if 'LastUp' in df.columns:\n",
    "            # ignoring time from LastUp, as we probably have it in LastContacted\n",
    "            df['LastUpDate'] = df['LastUp'].str.split(' ', n=1, expand=True)[0]\n",
    "            df = df.drop(columns=['LastUp'])\n",
    "            # replace 'Never' with Null in LastUpDate\n",
    "            df['LastUpDate'] = df['LastUpDate'].replace('Never', None)\n",
    "\n",
    "        # add a column for the sheetname\n",
    "        df['Sheetname'] = sheetname\n",
    "        # convert the dataframe to a sqlite table\n",
    "        df.to_sql(tablename, conn, if_exists='append', index=False)\n",
    "    return df"
   ]
  },
  {
   "cell_type": "code",
   "execution_count": 36,
   "metadata": {},
   "outputs": [
    {
     "name": "stdout",
     "output_type": "stream",
     "text": [
      "File 1 of 3\n",
      "HiddenServices-2018-2-14.xlsx New Today\n",
      "3 records imported\n",
      "HiddenServices-2018-2-14.xlsx Down\n",
      "11,735 records imported\n",
      "HiddenServices-2018-2-14.xlsx Up\n",
      "4,838 records imported\n",
      "File 2 of 3\n",
      "HiddenServices-2020-8-12.xlsx New Today\n",
      "0 records imported\n",
      "HiddenServices-2020-8-12.xlsx Down\n",
      "1,486 records imported\n",
      "HiddenServices-2020-8-12.xlsx Up\n",
      "3,250 records imported\n",
      "File 3 of 3\n",
      "HiddenServices-2019-11-3.xlsx New Today\n",
      "1 records imported\n",
      "HiddenServices-2019-11-3.xlsx Down\n",
      "1,165 records imported\n",
      "HiddenServices-2019-11-3.xlsx Up\n",
      "3,723 records imported\n"
     ]
    }
   ],
   "source": [
    "# define df as empty df to store the result for debugging purposes in the notebook\n",
    "df = pd.DataFrame()\n",
    "\n",
    "\n",
    "for file in files:\n",
    "    # output the file index and how many files are remaining after each file\n",
    "    print('File {} of {}'.format(files.index(file)+1, len(files)))\n",
    "    for sheetname in sheets:\n",
    "        print(file, sheetname)\n",
    "        df = import_sheet(sheetname, file)\n",
    "        #format length with thousand seperator\n",
    "        print('{:,} records imported'.format(len(df)))\n",
    "#print(df)"
   ]
  },
  {
   "cell_type": "code",
   "execution_count": 25,
   "metadata": {},
   "outputs": [],
   "source": [
    "#df"
   ]
  },
  {
   "cell_type": "code",
   "execution_count": 26,
   "metadata": {},
   "outputs": [
    {
     "name": "stdout",
     "output_type": "stream",
     "text": [
      "The SQLite connection is closed\n"
     ]
    }
   ],
   "source": [
    "close_connection(conn)"
   ]
  },
  {
   "cell_type": "code",
   "execution_count": null,
   "metadata": {},
   "outputs": [],
   "source": []
  }
 ],
 "metadata": {
  "kernelspec": {
   "display_name": "Python 3",
   "language": "python",
   "name": "python3"
  },
  "language_info": {
   "codemirror_mode": {
    "name": "ipython",
    "version": 3
   },
   "file_extension": ".py",
   "mimetype": "text/x-python",
   "name": "python",
   "nbconvert_exporter": "python",
   "pygments_lexer": "ipython3",
   "version": "3.9.10"
  },
  "orig_nbformat": 4
 },
 "nbformat": 4,
 "nbformat_minor": 2
}
