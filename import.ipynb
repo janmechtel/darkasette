{
 "cells": [
  {
   "cell_type": "code",
   "execution_count": 2,
   "metadata": {},
   "outputs": [
    {
     "data": {
      "text/plain": [
       "<module 'database' from '/home/jan/Projects/darkasette/database.py'>"
      ]
     },
     "execution_count": 2,
     "metadata": {},
     "output_type": "execute_result"
    }
   ],
   "source": [
    "import database\n",
    "import importlib\n",
    "importlib.reload(database)"
   ]
  },
  {
   "cell_type": "code",
   "execution_count": 3,
   "metadata": {},
   "outputs": [
    {
     "name": "stdout",
     "output_type": "stream",
     "text": [
      "Connection to SQLite DB successful\n"
     ]
    }
   ],
   "source": [
    "\n",
    "conn = create_connection()"
   ]
  },
  {
   "cell_type": "code",
   "execution_count": 5,
   "metadata": {},
   "outputs": [],
   "source": [
    "tablename = 'pings'"
   ]
  },
  {
   "cell_type": "code",
   "execution_count": 68,
   "metadata": {},
   "outputs": [],
   "source": [
    "# define columns as a list of pairs with title and type\n",
    "columns = [\n",
    "    ('HiddenService', 'TEXT'), # Indexed\n",
    "    ('Language', 'short_string CHAR(2)'), \n",
    "    ('HTTPStatus', 'INTEGER'),\n",
    "    ('LastContactedDate', 'TEXT'), # Index\n",
    "    ('LastContactedTime', 'TEXT'),\n",
    "    ('LastUpDate', 'TEXT'),  # Index\n",
    "    ('Title', 'TEXT'), # Indexed\n",
    "    ('Sheetname', 'TEXT'), # Indexed\n",
    "]"
   ]
  },
  {
   "cell_type": "code",
   "execution_count": 69,
   "metadata": {},
   "outputs": [],
   "source": [
    "def generateCreateTableQuery(tablename, columns):\n",
    "    query = 'CREATE TABLE IF NOT EXISTS \"' + tablename + '\" ('\n",
    "    for column in columns:\n",
    "        query += '\\n\"' + column[0] + '\" ' + column[1] + ','\n",
    "    query = query[:-1] + ');'\n",
    "    print(query)\n",
    "    return query"
   ]
  },
  {
   "cell_type": "code",
   "execution_count": 70,
   "metadata": {},
   "outputs": [
    {
     "name": "stdout",
     "output_type": "stream",
     "text": [
      "CREATE TABLE IF NOT EXISTS \"pings\" (\n",
      "\"HiddenService\" TEXT,\n",
      "\"Language\" short_string CHAR(2),\n",
      "\"HTTPStatus\" INTEGER,\n",
      "\"LastContactedDate\" TEXT,\n",
      "\"LastContactedTime\" TEXT,\n",
      "\"LastUpDate\" TEXT,\n",
      "\"Title\" TEXT,\n",
      "\"Sheetname\" TEXT);\n"
     ]
    },
    {
     "data": {
      "text/plain": [
       "<sqlite3.Cursor at 0x7fe7219351f0>"
      ]
     },
     "execution_count": 70,
     "metadata": {},
     "output_type": "execute_result"
    }
   ],
   "source": [
    "conn.execute(\n",
    "    generateCreateTableQuery(tablename, columns)\n",
    ")"
   ]
  },
  {
   "cell_type": "code",
   "execution_count": 71,
   "metadata": {},
   "outputs": [
    {
     "data": {
      "text/plain": [
       "<sqlite3.Cursor at 0x7fe721935260>"
      ]
     },
     "execution_count": 71,
     "metadata": {},
     "output_type": "execute_result"
    }
   ],
   "source": [
    "# create an index on the column \"Hidden Service\"\n",
    "conn.execute('''CREATE INDEX IF NOT EXISTS \"''' + tablename + '''_HiddenService\" ON ''' + tablename + '''(\"HiddenService\");''')        \n",
    "conn.execute('''CREATE INDEX IF NOT EXISTS \"''' + tablename + '''_Sheetname\" ON ''' + tablename + '''(\"Sheetname\");''')        \n",
    "conn.execute('''CREATE INDEX IF NOT EXISTS \"''' + tablename + '''_Title\" ON ''' + tablename + '''(\"Title\");''')        \n",
    "conn.execute('''CREATE INDEX IF NOT EXISTS \"''' + tablename + '''_LastContactedDate\" ON ''' + tablename + '''(\"LastContactedDate\");''')        \n",
    "conn.execute('''CREATE INDEX IF NOT EXISTS \"''' + tablename + '''_LastUpDate\" ON ''' + tablename + '''(\"LastUpDate\");''')        "
   ]
  },
  {
   "cell_type": "code",
   "execution_count": 72,
   "metadata": {},
   "outputs": [],
   "source": [
    "import pandas as pd\n",
    "import os\n",
    "\n",
    "# iterate through the .xlsx files in the rawreports folder and add it to a list of files\n",
    "files = []\n",
    "for file in os.listdir('rawreports'):\n",
    "    if file.endswith('.xlsx'):\n",
    "        files.append(file)\n"
   ]
  },
  {
   "cell_type": "code",
   "execution_count": 73,
   "metadata": {},
   "outputs": [
    {
     "data": {
      "text/plain": [
       "2148"
      ]
     },
     "execution_count": 73,
     "metadata": {},
     "output_type": "execute_result"
    }
   ],
   "source": [
    "#only take the first files for testing purposes\n",
    "#files = files[:3]\n",
    "len(files)"
   ]
  },
  {
   "cell_type": "code",
   "execution_count": 74,
   "metadata": {},
   "outputs": [],
   "source": [
    "sheets = [\"New Today\", \"Down\", \"Up\"]"
   ]
  },
  {
   "cell_type": "code",
   "execution_count": 75,
   "metadata": {},
   "outputs": [],
   "source": [
    "def import_sheet(sheetname, file):\n",
    "    # read the excel file into a pandas dataframe\n",
    "    df = pd.read_excel('rawreports/' + file,sheetname)\n",
    "    \n",
    "    df.columns = df.columns.map(lambda x: x.replace(' ', ''))\n",
    "    # if the column LastSeen does not exist create it with the value of the column FirstSeen\n",
    "    if len(df) > 0: \n",
    "        if 'LastContacted' not in df.columns:\n",
    "            df['LastContacted'] = df['FirstSeen']\n",
    "            df = df.drop(columns=['FirstSeen'])\n",
    "        # split LastContacted into date and time\n",
    "        df['LastContactedDate'] = df['LastContacted'].str.split(' ', n=1, expand=True)[0] \n",
    "        df['LastContactedTime'] = df['LastContacted'].str.split(' ', n=1, expand=True)[1]\n",
    "        df = df.drop(columns=['LastContacted'])\n",
    "\n",
    "        if 'LastUp' in df.columns:\n",
    "            # ignoring time from LastUp, as we probably have it in LastContacted\n",
    "            df['LastUpDate'] = df['LastUp'].str.split(' ', n=1, expand=True)[0]\n",
    "            df = df.drop(columns=['LastUp'])\n",
    "            # replace 'Never' with Null in LastUpDate\n",
    "            df['LastUpDate'] = df['LastUpDate'].replace('Never', None)\n",
    "\n",
    "        # add a column for the sheetname\n",
    "        df['Sheetname'] = sheetname\n",
    "        # convert the dataframe to a sqlite table\n",
    "        df.to_sql(tablename, conn, if_exists='append', index=False)\n",
    "    return df"
   ]
  },
  {
   "cell_type": "code",
   "execution_count": 76,
   "metadata": {},
   "outputs": [
    {
     "name": "stdout",
     "output_type": "stream",
     "text": [
      "HiddenServices-2018-2-14.xlsx New Today\n",
      "3\n",
      "HiddenServices-2018-2-14.xlsx Down\n",
      "11735\n",
      "HiddenServices-2018-2-14.xlsx Up\n",
      "4838\n",
      "HiddenServices-2020-8-12.xlsx New Today\n",
      "0\n",
      "HiddenServices-2020-8-12.xlsx Down\n",
      "1486\n",
      "HiddenServices-2020-8-12.xlsx Up\n",
      "3250\n",
      "HiddenServices-2019-11-3.xlsx New Today\n",
      "1\n",
      "HiddenServices-2019-11-3.xlsx Down\n",
      "1165\n",
      "HiddenServices-2019-11-3.xlsx Up\n",
      "3723\n",
      "HiddenServices-2022-1-29.xlsx New Today\n",
      "0\n",
      "HiddenServices-2022-1-29.xlsx Down\n",
      "2038\n",
      "HiddenServices-2022-1-29.xlsx Up\n",
      "2628\n",
      "HiddenServices-2020-2-2.xlsx New Today\n",
      "0\n",
      "HiddenServices-2020-2-2.xlsx Down\n",
      "1239\n",
      "HiddenServices-2020-2-2.xlsx Up\n",
      "3658\n",
      "HiddenServices-2019-3-14.xlsx New Today\n",
      "2\n",
      "HiddenServices-2019-3-14.xlsx Down\n",
      "774\n",
      "HiddenServices-2019-3-14.xlsx Up\n",
      "5474\n",
      "HiddenServices-2020-1-22.xlsx New Today\n",
      "5\n",
      "HiddenServices-2020-1-22.xlsx Down\n",
      "1168\n",
      "HiddenServices-2020-1-22.xlsx Up\n",
      "3766\n",
      "HiddenServices-2023-3-17.xlsx New Today\n",
      "0\n",
      "HiddenServices-2023-3-17.xlsx Down\n",
      "2171\n",
      "HiddenServices-2023-3-17.xlsx Up\n",
      "604\n",
      "HiddenServices-2021-2-11.xlsx New Today\n",
      "1\n",
      "HiddenServices-2021-2-11.xlsx Down\n",
      "1631\n",
      "HiddenServices-2021-2-11.xlsx Up\n",
      "3755\n",
      "HiddenServices-2021-4-9.xlsx New Today\n",
      "2\n",
      "HiddenServices-2021-4-9.xlsx Down\n",
      "2102\n",
      "HiddenServices-2021-4-9.xlsx Up\n",
      "3834\n",
      "HiddenServices-2019-12-26.xlsx New Today\n",
      "0\n",
      "HiddenServices-2019-12-26.xlsx Down\n",
      "1178\n",
      "HiddenServices-2019-12-26.xlsx Up\n",
      "3736\n",
      "HiddenServices-2021-5-17.xlsx New Today\n",
      "4\n",
      "HiddenServices-2021-5-17.xlsx Down\n",
      "1774\n",
      "HiddenServices-2021-5-17.xlsx Up\n",
      "3981\n",
      "HiddenServices-2018-12-2.xlsx New Today\n",
      "1\n",
      "HiddenServices-2018-12-2.xlsx Down\n",
      "31007\n",
      "HiddenServices-2018-12-2.xlsx Up\n",
      "4208\n",
      "HiddenServices-2020-6-6.xlsx New Today\n",
      "3\n",
      "HiddenServices-2020-6-6.xlsx Down\n",
      "1689\n",
      "HiddenServices-2020-6-6.xlsx Up\n",
      "3542\n",
      "HiddenServices-2021-3-12.xlsx New Today\n",
      "0\n",
      "HiddenServices-2021-3-12.xlsx Down\n",
      "1750\n",
      "HiddenServices-2021-3-12.xlsx Up\n",
      "3948\n",
      "HiddenServices-2018-7-14.xlsx New Today\n",
      "1\n",
      "HiddenServices-2018-7-14.xlsx Down\n",
      "28768\n",
      "HiddenServices-2018-7-14.xlsx Up\n",
      "7001\n",
      "HiddenServices-2018-2-7.xlsx New Today\n",
      "2\n",
      "HiddenServices-2018-2-7.xlsx Down\n",
      "10528\n",
      "HiddenServices-2018-2-7.xlsx Up\n",
      "4657\n",
      "HiddenServices-2019-11-26.xlsx New Today\n",
      "2\n",
      "HiddenServices-2019-11-26.xlsx Down\n",
      "1142\n",
      "HiddenServices-2019-11-26.xlsx Up\n",
      "3821\n",
      "HiddenServices-2020-10-27.xlsx New Today\n",
      "4\n",
      "HiddenServices-2020-10-27.xlsx Down\n",
      "1563\n",
      "HiddenServices-2020-10-27.xlsx Up\n",
      "4392\n",
      "HiddenServices-2019-2-21.xlsx New Today\n",
      "1\n",
      "HiddenServices-2019-2-21.xlsx Down\n",
      "31370\n",
      "HiddenServices-2019-2-21.xlsx Up\n",
      "4158\n",
      "HiddenServices-2019-11-27.xlsx New Today\n",
      "1\n",
      "HiddenServices-2019-11-27.xlsx Down\n",
      "1137\n",
      "HiddenServices-2019-11-27.xlsx Up\n",
      "3804\n",
      "HiddenServices-2020-10-22.xlsx New Today\n",
      "4\n",
      "HiddenServices-2020-10-22.xlsx Down\n",
      "1558\n",
      "HiddenServices-2020-10-22.xlsx Up\n",
      "4424\n",
      "HiddenServices-2020-12-26.xlsx New Today\n",
      "2\n",
      "HiddenServices-2020-12-26.xlsx Down\n",
      "1595\n",
      "HiddenServices-2020-12-26.xlsx Up\n",
      "4162\n",
      "HiddenServices-2019-5-8.xlsx New Today\n",
      "2\n",
      "HiddenServices-2019-5-8.xlsx Down\n",
      "972\n",
      "HiddenServices-2019-5-8.xlsx Up\n",
      "4719\n",
      "HiddenServices-2018-9-3.xlsx New Today\n",
      "0\n",
      "HiddenServices-2018-9-3.xlsx Down\n",
      "7196\n",
      "HiddenServices-2018-9-3.xlsx Up\n",
      "1800\n",
      "HiddenServices-2022-11-11.xlsx New Today\n",
      "4\n",
      "HiddenServices-2022-11-11.xlsx Down\n",
      "2153\n",
      "HiddenServices-2022-11-11.xlsx Up\n",
      "876\n",
      "HiddenServices-2023-4-11.xlsx New Today\n",
      "0\n",
      "HiddenServices-2023-4-11.xlsx Down\n",
      "2247\n",
      "HiddenServices-2023-4-11.xlsx Up\n",
      "602\n",
      "HiddenServices-2022-9-19.xlsx New Today\n",
      "0\n",
      "HiddenServices-2022-9-19.xlsx Down\n"
     ]
    },
    {
     "ename": "KeyboardInterrupt",
     "evalue": "",
     "output_type": "error",
     "traceback": [
      "\u001b[0;31m---------------------------------------------------------------------------\u001b[0m",
      "\u001b[0;31mKeyboardInterrupt\u001b[0m                         Traceback (most recent call last)",
      "Cell \u001b[0;32mIn[76], line 7\u001b[0m\n\u001b[1;32m      5\u001b[0m     \u001b[39mfor\u001b[39;00m sheetname \u001b[39min\u001b[39;00m sheets:\n\u001b[1;32m      6\u001b[0m         \u001b[39mprint\u001b[39m(file, sheetname)\n\u001b[0;32m----> 7\u001b[0m         df \u001b[39m=\u001b[39m import_sheet(sheetname, file)\n\u001b[1;32m      8\u001b[0m         \u001b[39mprint\u001b[39m(\u001b[39mlen\u001b[39m(df))\n\u001b[1;32m      9\u001b[0m \u001b[39m#print(df)\u001b[39;00m\n",
      "Cell \u001b[0;32mIn[75], line 26\u001b[0m, in \u001b[0;36mimport_sheet\u001b[0;34m(sheetname, file)\u001b[0m\n\u001b[1;32m     24\u001b[0m     df[\u001b[39m'\u001b[39m\u001b[39mSheetname\u001b[39m\u001b[39m'\u001b[39m] \u001b[39m=\u001b[39m sheetname\n\u001b[1;32m     25\u001b[0m     \u001b[39m# convert the dataframe to a sqlite table\u001b[39;00m\n\u001b[0;32m---> 26\u001b[0m     df\u001b[39m.\u001b[39;49mto_sql(tablename, conn, if_exists\u001b[39m=\u001b[39;49m\u001b[39m'\u001b[39;49m\u001b[39mappend\u001b[39;49m\u001b[39m'\u001b[39;49m, index\u001b[39m=\u001b[39;49m\u001b[39mFalse\u001b[39;49;00m)\n\u001b[1;32m     27\u001b[0m \u001b[39mreturn\u001b[39;00m df\n",
      "File \u001b[0;32m~/.pyenv/versions/3.9.10/lib/python3.9/site-packages/pandas/core/generic.py:2878\u001b[0m, in \u001b[0;36mNDFrame.to_sql\u001b[0;34m(self, name, con, schema, if_exists, index, index_label, chunksize, dtype, method)\u001b[0m\n\u001b[1;32m   2713\u001b[0m \u001b[39m\u001b[39m\u001b[39m\"\"\"\u001b[39;00m\n\u001b[1;32m   2714\u001b[0m \u001b[39mWrite records stored in a DataFrame to a SQL database.\u001b[39;00m\n\u001b[1;32m   2715\u001b[0m \n\u001b[0;32m   (...)\u001b[0m\n\u001b[1;32m   2874\u001b[0m \u001b[39m[(1,), (None,), (2,)]\u001b[39;00m\n\u001b[1;32m   2875\u001b[0m \u001b[39m\"\"\"\u001b[39;00m  \u001b[39m# noqa:E501\u001b[39;00m\n\u001b[1;32m   2876\u001b[0m \u001b[39mfrom\u001b[39;00m \u001b[39mpandas\u001b[39;00m\u001b[39m.\u001b[39;00m\u001b[39mio\u001b[39;00m \u001b[39mimport\u001b[39;00m sql\n\u001b[0;32m-> 2878\u001b[0m \u001b[39mreturn\u001b[39;00m sql\u001b[39m.\u001b[39;49mto_sql(\n\u001b[1;32m   2879\u001b[0m     \u001b[39mself\u001b[39;49m,\n\u001b[1;32m   2880\u001b[0m     name,\n\u001b[1;32m   2881\u001b[0m     con,\n\u001b[1;32m   2882\u001b[0m     schema\u001b[39m=\u001b[39;49mschema,\n\u001b[1;32m   2883\u001b[0m     if_exists\u001b[39m=\u001b[39;49mif_exists,\n\u001b[1;32m   2884\u001b[0m     index\u001b[39m=\u001b[39;49mindex,\n\u001b[1;32m   2885\u001b[0m     index_label\u001b[39m=\u001b[39;49mindex_label,\n\u001b[1;32m   2886\u001b[0m     chunksize\u001b[39m=\u001b[39;49mchunksize,\n\u001b[1;32m   2887\u001b[0m     dtype\u001b[39m=\u001b[39;49mdtype,\n\u001b[1;32m   2888\u001b[0m     method\u001b[39m=\u001b[39;49mmethod,\n\u001b[1;32m   2889\u001b[0m )\n",
      "File \u001b[0;32m~/.pyenv/versions/3.9.10/lib/python3.9/site-packages/pandas/io/sql.py:769\u001b[0m, in \u001b[0;36mto_sql\u001b[0;34m(frame, name, con, schema, if_exists, index, index_label, chunksize, dtype, method, engine, **engine_kwargs)\u001b[0m\n\u001b[1;32m    764\u001b[0m     \u001b[39mraise\u001b[39;00m \u001b[39mNotImplementedError\u001b[39;00m(\n\u001b[1;32m    765\u001b[0m         \u001b[39m\"\u001b[39m\u001b[39m'\u001b[39m\u001b[39mframe\u001b[39m\u001b[39m'\u001b[39m\u001b[39m argument should be either a Series or a DataFrame\u001b[39m\u001b[39m\"\u001b[39m\n\u001b[1;32m    766\u001b[0m     )\n\u001b[1;32m    768\u001b[0m \u001b[39mwith\u001b[39;00m pandasSQL_builder(con, schema\u001b[39m=\u001b[39mschema, need_transaction\u001b[39m=\u001b[39m\u001b[39mTrue\u001b[39;00m) \u001b[39mas\u001b[39;00m pandas_sql:\n\u001b[0;32m--> 769\u001b[0m     \u001b[39mreturn\u001b[39;00m pandas_sql\u001b[39m.\u001b[39;49mto_sql(\n\u001b[1;32m    770\u001b[0m         frame,\n\u001b[1;32m    771\u001b[0m         name,\n\u001b[1;32m    772\u001b[0m         if_exists\u001b[39m=\u001b[39;49mif_exists,\n\u001b[1;32m    773\u001b[0m         index\u001b[39m=\u001b[39;49mindex,\n\u001b[1;32m    774\u001b[0m         index_label\u001b[39m=\u001b[39;49mindex_label,\n\u001b[1;32m    775\u001b[0m         schema\u001b[39m=\u001b[39;49mschema,\n\u001b[1;32m    776\u001b[0m         chunksize\u001b[39m=\u001b[39;49mchunksize,\n\u001b[1;32m    777\u001b[0m         dtype\u001b[39m=\u001b[39;49mdtype,\n\u001b[1;32m    778\u001b[0m         method\u001b[39m=\u001b[39;49mmethod,\n\u001b[1;32m    779\u001b[0m         engine\u001b[39m=\u001b[39;49mengine,\n\u001b[1;32m    780\u001b[0m         \u001b[39m*\u001b[39;49m\u001b[39m*\u001b[39;49mengine_kwargs,\n\u001b[1;32m    781\u001b[0m     )\n",
      "File \u001b[0;32m~/.pyenv/versions/3.9.10/lib/python3.9/site-packages/pandas/io/sql.py:2379\u001b[0m, in \u001b[0;36mSQLiteDatabase.to_sql\u001b[0;34m(self, frame, name, if_exists, index, index_label, schema, chunksize, dtype, method, engine, **engine_kwargs)\u001b[0m\n\u001b[1;32m   2369\u001b[0m table \u001b[39m=\u001b[39m SQLiteTable(\n\u001b[1;32m   2370\u001b[0m     name,\n\u001b[1;32m   2371\u001b[0m     \u001b[39mself\u001b[39m,\n\u001b[0;32m   (...)\u001b[0m\n\u001b[1;32m   2376\u001b[0m     dtype\u001b[39m=\u001b[39mdtype,\n\u001b[1;32m   2377\u001b[0m )\n\u001b[1;32m   2378\u001b[0m table\u001b[39m.\u001b[39mcreate()\n\u001b[0;32m-> 2379\u001b[0m \u001b[39mreturn\u001b[39;00m table\u001b[39m.\u001b[39;49minsert(chunksize, method)\n",
      "File \u001b[0;32m~/.pyenv/versions/3.9.10/lib/python3.9/site-packages/pandas/io/sql.py:1029\u001b[0m, in \u001b[0;36mSQLTable.insert\u001b[0;34m(self, chunksize, method)\u001b[0m\n\u001b[1;32m   1027\u001b[0m                 total_inserted \u001b[39m=\u001b[39m num_inserted\n\u001b[1;32m   1028\u001b[0m             \u001b[39melse\u001b[39;00m:\n\u001b[0;32m-> 1029\u001b[0m                 total_inserted \u001b[39m+\u001b[39m\u001b[39m=\u001b[39m num_inserted\n\u001b[1;32m   1030\u001b[0m \u001b[39mreturn\u001b[39;00m total_inserted\n",
      "File \u001b[0;32m~/.pyenv/versions/3.9.10/lib/python3.9/contextlib.py:126\u001b[0m, in \u001b[0;36m_GeneratorContextManager.__exit__\u001b[0;34m(self, typ, value, traceback)\u001b[0m\n\u001b[1;32m    124\u001b[0m \u001b[39mif\u001b[39;00m typ \u001b[39mis\u001b[39;00m \u001b[39mNone\u001b[39;00m:\n\u001b[1;32m    125\u001b[0m     \u001b[39mtry\u001b[39;00m:\n\u001b[0;32m--> 126\u001b[0m         \u001b[39mnext\u001b[39;49m(\u001b[39mself\u001b[39;49m\u001b[39m.\u001b[39;49mgen)\n\u001b[1;32m    127\u001b[0m     \u001b[39mexcept\u001b[39;00m \u001b[39mStopIteration\u001b[39;00m:\n\u001b[1;32m    128\u001b[0m         \u001b[39mreturn\u001b[39;00m \u001b[39mFalse\u001b[39;00m\n",
      "File \u001b[0;32m~/.pyenv/versions/3.9.10/lib/python3.9/site-packages/pandas/io/sql.py:2189\u001b[0m, in \u001b[0;36mSQLiteDatabase.run_transaction\u001b[0;34m(self)\u001b[0m\n\u001b[1;32m   2187\u001b[0m \u001b[39mtry\u001b[39;00m:\n\u001b[1;32m   2188\u001b[0m     \u001b[39myield\u001b[39;00m cur\n\u001b[0;32m-> 2189\u001b[0m     \u001b[39mself\u001b[39;49m\u001b[39m.\u001b[39;49mcon\u001b[39m.\u001b[39;49mcommit()\n\u001b[1;32m   2190\u001b[0m \u001b[39mexcept\u001b[39;00m \u001b[39mException\u001b[39;00m:\n\u001b[1;32m   2191\u001b[0m     \u001b[39mself\u001b[39m\u001b[39m.\u001b[39mcon\u001b[39m.\u001b[39mrollback()\n",
      "\u001b[0;31mKeyboardInterrupt\u001b[0m: "
     ]
    }
   ],
   "source": [
    "# define df as empty df to store the result for debugging purposes in the notebook\n",
    "df = pd.DataFrame()\n",
    "\n",
    "for file in files:\n",
    "    for sheetname in sheets:\n",
    "        print(file, sheetname)\n",
    "        df = import_sheet(sheetname, file)\n",
    "        print(len(df))\n",
    "#print(df)"
   ]
  },
  {
   "cell_type": "code",
   "execution_count": null,
   "metadata": {},
   "outputs": [],
   "source": [
    "#df"
   ]
  },
  {
   "cell_type": "code",
   "execution_count": 4,
   "metadata": {},
   "outputs": [
    {
     "name": "stdout",
     "output_type": "stream",
     "text": [
      "The SQLite connection is closed\n"
     ]
    }
   ],
   "source": [
    "close_connection(conn)"
   ]
  },
  {
   "cell_type": "code",
   "execution_count": null,
   "metadata": {},
   "outputs": [],
   "source": []
  }
 ],
 "metadata": {
  "kernelspec": {
   "display_name": "Python 3",
   "language": "python",
   "name": "python3"
  },
  "language_info": {
   "codemirror_mode": {
    "name": "ipython",
    "version": 3
   },
   "file_extension": ".py",
   "mimetype": "text/x-python",
   "name": "python",
   "nbconvert_exporter": "python",
   "pygments_lexer": "ipython3",
   "version": "3.9.10"
  },
  "orig_nbformat": 4
 },
 "nbformat": 4,
 "nbformat_minor": 2
}
